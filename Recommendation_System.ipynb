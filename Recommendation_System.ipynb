{
  "nbformat": 4,
  "nbformat_minor": 0,
  "metadata": {
    "colab": {
      "provenance": [],
      "authorship_tag": "ABX9TyPAkDEn3fXgL+3I71S7PXa2",
      "include_colab_link": true
    },
    "kernelspec": {
      "name": "python3",
      "display_name": "Python 3"
    },
    "language_info": {
      "name": "python"
    },
    "widgets": {
      "application/vnd.jupyter.widget-state+json": {
        "2380c88a1ea24f93b8fc0ab843f819fb": {
          "model_module": "@jupyter-widgets/controls",
          "model_name": "HBoxModel",
          "model_module_version": "1.5.0",
          "state": {
            "_dom_classes": [],
            "_model_module": "@jupyter-widgets/controls",
            "_model_module_version": "1.5.0",
            "_model_name": "HBoxModel",
            "_view_count": null,
            "_view_module": "@jupyter-widgets/controls",
            "_view_module_version": "1.5.0",
            "_view_name": "HBoxView",
            "box_style": "",
            "children": [
              "IPY_MODEL_22e896b75ed94cb78c536f5260607a1b",
              "IPY_MODEL_85781297276e4ac0a0d8065c79bc090d",
              "IPY_MODEL_be66dadedd6d490fa65c84e3bd7d4456"
            ],
            "layout": "IPY_MODEL_a0078ec671f54af88f32b4d00920501c"
          }
        },
        "22e896b75ed94cb78c536f5260607a1b": {
          "model_module": "@jupyter-widgets/controls",
          "model_name": "HTMLModel",
          "model_module_version": "1.5.0",
          "state": {
            "_dom_classes": [],
            "_model_module": "@jupyter-widgets/controls",
            "_model_module_version": "1.5.0",
            "_model_name": "HTMLModel",
            "_view_count": null,
            "_view_module": "@jupyter-widgets/controls",
            "_view_module_version": "1.5.0",
            "_view_name": "HTMLView",
            "description": "",
            "description_tooltip": null,
            "layout": "IPY_MODEL_69f46bf15a0c4bbda45addbf7eab4f00",
            "placeholder": "​",
            "style": "IPY_MODEL_4fbeed7c3cf0452c957a67bd846414fc",
            "value": "100%"
          }
        },
        "85781297276e4ac0a0d8065c79bc090d": {
          "model_module": "@jupyter-widgets/controls",
          "model_name": "FloatProgressModel",
          "model_module_version": "1.5.0",
          "state": {
            "_dom_classes": [],
            "_model_module": "@jupyter-widgets/controls",
            "_model_module_version": "1.5.0",
            "_model_name": "FloatProgressModel",
            "_view_count": null,
            "_view_module": "@jupyter-widgets/controls",
            "_view_module_version": "1.5.0",
            "_view_name": "ProgressView",
            "bar_style": "success",
            "description": "",
            "description_tooltip": null,
            "layout": "IPY_MODEL_c731df5795bc45348f3183ec718adcac",
            "max": 5,
            "min": 0,
            "orientation": "horizontal",
            "style": "IPY_MODEL_4184a74f108c42d4a53d90e09f1c8b92",
            "value": 5
          }
        },
        "be66dadedd6d490fa65c84e3bd7d4456": {
          "model_module": "@jupyter-widgets/controls",
          "model_name": "HTMLModel",
          "model_module_version": "1.5.0",
          "state": {
            "_dom_classes": [],
            "_model_module": "@jupyter-widgets/controls",
            "_model_module_version": "1.5.0",
            "_model_name": "HTMLModel",
            "_view_count": null,
            "_view_module": "@jupyter-widgets/controls",
            "_view_module_version": "1.5.0",
            "_view_name": "HTMLView",
            "description": "",
            "description_tooltip": null,
            "layout": "IPY_MODEL_081eae886d9e401d922c42e718a4ea2c",
            "placeholder": "​",
            "style": "IPY_MODEL_219ea7a1341f4c71b56dd4d25d470c18",
            "value": " 5/5 [00:23&lt;00:00,  4.61s/it]"
          }
        },
        "a0078ec671f54af88f32b4d00920501c": {
          "model_module": "@jupyter-widgets/base",
          "model_name": "LayoutModel",
          "model_module_version": "1.2.0",
          "state": {
            "_model_module": "@jupyter-widgets/base",
            "_model_module_version": "1.2.0",
            "_model_name": "LayoutModel",
            "_view_count": null,
            "_view_module": "@jupyter-widgets/base",
            "_view_module_version": "1.2.0",
            "_view_name": "LayoutView",
            "align_content": null,
            "align_items": null,
            "align_self": null,
            "border": null,
            "bottom": null,
            "display": null,
            "flex": null,
            "flex_flow": null,
            "grid_area": null,
            "grid_auto_columns": null,
            "grid_auto_flow": null,
            "grid_auto_rows": null,
            "grid_column": null,
            "grid_gap": null,
            "grid_row": null,
            "grid_template_areas": null,
            "grid_template_columns": null,
            "grid_template_rows": null,
            "height": null,
            "justify_content": null,
            "justify_items": null,
            "left": null,
            "margin": null,
            "max_height": null,
            "max_width": null,
            "min_height": null,
            "min_width": null,
            "object_fit": null,
            "object_position": null,
            "order": null,
            "overflow": null,
            "overflow_x": null,
            "overflow_y": null,
            "padding": null,
            "right": null,
            "top": null,
            "visibility": null,
            "width": null
          }
        },
        "69f46bf15a0c4bbda45addbf7eab4f00": {
          "model_module": "@jupyter-widgets/base",
          "model_name": "LayoutModel",
          "model_module_version": "1.2.0",
          "state": {
            "_model_module": "@jupyter-widgets/base",
            "_model_module_version": "1.2.0",
            "_model_name": "LayoutModel",
            "_view_count": null,
            "_view_module": "@jupyter-widgets/base",
            "_view_module_version": "1.2.0",
            "_view_name": "LayoutView",
            "align_content": null,
            "align_items": null,
            "align_self": null,
            "border": null,
            "bottom": null,
            "display": null,
            "flex": null,
            "flex_flow": null,
            "grid_area": null,
            "grid_auto_columns": null,
            "grid_auto_flow": null,
            "grid_auto_rows": null,
            "grid_column": null,
            "grid_gap": null,
            "grid_row": null,
            "grid_template_areas": null,
            "grid_template_columns": null,
            "grid_template_rows": null,
            "height": null,
            "justify_content": null,
            "justify_items": null,
            "left": null,
            "margin": null,
            "max_height": null,
            "max_width": null,
            "min_height": null,
            "min_width": null,
            "object_fit": null,
            "object_position": null,
            "order": null,
            "overflow": null,
            "overflow_x": null,
            "overflow_y": null,
            "padding": null,
            "right": null,
            "top": null,
            "visibility": null,
            "width": null
          }
        },
        "4fbeed7c3cf0452c957a67bd846414fc": {
          "model_module": "@jupyter-widgets/controls",
          "model_name": "DescriptionStyleModel",
          "model_module_version": "1.5.0",
          "state": {
            "_model_module": "@jupyter-widgets/controls",
            "_model_module_version": "1.5.0",
            "_model_name": "DescriptionStyleModel",
            "_view_count": null,
            "_view_module": "@jupyter-widgets/base",
            "_view_module_version": "1.2.0",
            "_view_name": "StyleView",
            "description_width": ""
          }
        },
        "c731df5795bc45348f3183ec718adcac": {
          "model_module": "@jupyter-widgets/base",
          "model_name": "LayoutModel",
          "model_module_version": "1.2.0",
          "state": {
            "_model_module": "@jupyter-widgets/base",
            "_model_module_version": "1.2.0",
            "_model_name": "LayoutModel",
            "_view_count": null,
            "_view_module": "@jupyter-widgets/base",
            "_view_module_version": "1.2.0",
            "_view_name": "LayoutView",
            "align_content": null,
            "align_items": null,
            "align_self": null,
            "border": null,
            "bottom": null,
            "display": null,
            "flex": null,
            "flex_flow": null,
            "grid_area": null,
            "grid_auto_columns": null,
            "grid_auto_flow": null,
            "grid_auto_rows": null,
            "grid_column": null,
            "grid_gap": null,
            "grid_row": null,
            "grid_template_areas": null,
            "grid_template_columns": null,
            "grid_template_rows": null,
            "height": null,
            "justify_content": null,
            "justify_items": null,
            "left": null,
            "margin": null,
            "max_height": null,
            "max_width": null,
            "min_height": null,
            "min_width": null,
            "object_fit": null,
            "object_position": null,
            "order": null,
            "overflow": null,
            "overflow_x": null,
            "overflow_y": null,
            "padding": null,
            "right": null,
            "top": null,
            "visibility": null,
            "width": null
          }
        },
        "4184a74f108c42d4a53d90e09f1c8b92": {
          "model_module": "@jupyter-widgets/controls",
          "model_name": "ProgressStyleModel",
          "model_module_version": "1.5.0",
          "state": {
            "_model_module": "@jupyter-widgets/controls",
            "_model_module_version": "1.5.0",
            "_model_name": "ProgressStyleModel",
            "_view_count": null,
            "_view_module": "@jupyter-widgets/base",
            "_view_module_version": "1.2.0",
            "_view_name": "StyleView",
            "bar_color": null,
            "description_width": ""
          }
        },
        "081eae886d9e401d922c42e718a4ea2c": {
          "model_module": "@jupyter-widgets/base",
          "model_name": "LayoutModel",
          "model_module_version": "1.2.0",
          "state": {
            "_model_module": "@jupyter-widgets/base",
            "_model_module_version": "1.2.0",
            "_model_name": "LayoutModel",
            "_view_count": null,
            "_view_module": "@jupyter-widgets/base",
            "_view_module_version": "1.2.0",
            "_view_name": "LayoutView",
            "align_content": null,
            "align_items": null,
            "align_self": null,
            "border": null,
            "bottom": null,
            "display": null,
            "flex": null,
            "flex_flow": null,
            "grid_area": null,
            "grid_auto_columns": null,
            "grid_auto_flow": null,
            "grid_auto_rows": null,
            "grid_column": null,
            "grid_gap": null,
            "grid_row": null,
            "grid_template_areas": null,
            "grid_template_columns": null,
            "grid_template_rows": null,
            "height": null,
            "justify_content": null,
            "justify_items": null,
            "left": null,
            "margin": null,
            "max_height": null,
            "max_width": null,
            "min_height": null,
            "min_width": null,
            "object_fit": null,
            "object_position": null,
            "order": null,
            "overflow": null,
            "overflow_x": null,
            "overflow_y": null,
            "padding": null,
            "right": null,
            "top": null,
            "visibility": null,
            "width": null
          }
        },
        "219ea7a1341f4c71b56dd4d25d470c18": {
          "model_module": "@jupyter-widgets/controls",
          "model_name": "DescriptionStyleModel",
          "model_module_version": "1.5.0",
          "state": {
            "_model_module": "@jupyter-widgets/controls",
            "_model_module_version": "1.5.0",
            "_model_name": "DescriptionStyleModel",
            "_view_count": null,
            "_view_module": "@jupyter-widgets/base",
            "_view_module_version": "1.2.0",
            "_view_name": "StyleView",
            "description_width": ""
          }
        }
      }
    }
  },
  "cells": [
    {
      "cell_type": "markdown",
      "metadata": {
        "id": "view-in-github",
        "colab_type": "text"
      },
      "source": [
        "<a href=\"https://colab.research.google.com/github/iamjustkay/Recommendation_System/blob/main/Recommendation_System.ipynb\" target=\"_parent\"><img src=\"https://colab.research.google.com/assets/colab-badge.svg\" alt=\"Open In Colab\"/></a>"
      ]
    },
    {
      "cell_type": "code",
      "source": [
        "# =============================================\n",
        "# Data Cleaning + Save Cleaned Files\n",
        "# =============================================\n",
        "\n",
        "import pandas as pd\n",
        "import numpy as np\n",
        "import matplotlib.pyplot as plt\n",
        "import seaborn as sns\n",
        "from sklearn.ensemble import IsolationForest\n",
        "import plotly.express as px\n",
        "\n",
        "# -----------------------\n",
        "# Step 1: Load raw datasets\n",
        "# -----------------------\n",
        "dtype_events = {\n",
        "    \"timestamp\": str,\n",
        "    \"visitorid\": str,\n",
        "    \"event\": str,\n",
        "    \"itemid\": str,\n",
        "    \"transactionid\": str\n",
        "}\n",
        "dtype_cat = {\"categoryid\": str, \"parentid\": str}\n",
        "dtype_props = {\"itemid\": str, \"property\": str, \"value\": str}\n",
        "\n",
        "events = pd.read_csv(\"events.csv\", dtype=dtype_events)\n",
        "category_tree = pd.read_csv(\"category_tree.csv\", dtype=dtype_cat)\n",
        "item_props = pd.read_csv(\"item_properties.csv\", dtype=dtype_props)\n",
        "\n",
        "print(\"Initial shapes:\")\n",
        "print(\"Events:\", events.shape)\n",
        "print(\"Category Tree:\", category_tree.shape)\n",
        "print(\"Item Properties:\", item_props.shape)\n",
        "\n",
        "# -----------------------\n",
        "# Step 2: Clean abnormal values\n",
        "# -----------------------\n",
        "\n",
        "# Convert timestamp to datetime\n",
        "#events[\"timestamp\"] = pd.to_datetime(events[\"timestamp\"], errors=\"coerce\")\n",
        "#events = events.dropna(subset=[\"timestamp\"])\n",
        "#events = events[(events[\"timestamp\"] >= \"2014-01-01\") & (events[\"timestamp\"] <= \"2016-12-31\")]\n",
        "\n",
        "# Remove null critical fields & invalid events\n",
        "#events = events.dropna(subset=[\"visitorid\", \"event\", \"itemid\"])\n",
        "#events = events[events[\"event\"].isin([\"view\", \"addtocart\", \"transaction\"])]\n",
        "\n",
        "# Clean numeric-looking property values in item_properties\n",
        "def clean_numeric(val):\n",
        "    if isinstance(val, str) and val.startswith(\"n\"):\n",
        "        try:\n",
        "            return float(val[1:])\n",
        "        except:\n",
        "            return np.nan\n",
        "    return val\n",
        "\n",
        "item_props[\"value\"] = item_props[\"value\"].apply(clean_numeric)\n",
        "item_props = item_props.dropna(subset=[\"itemid\", \"property\", \"value\"])\n",
        "\n",
        "# Remove duplicate category entries\n",
        "#category_tree = category_tree.drop_duplicates()\n",
        "\n",
        "# -----------------------\n",
        "# Step 3: Outlier detection (abnormal users)\n",
        "# -----------------------\n",
        "def build_user_features(events_df):\n",
        "    feats = []\n",
        "    # Check if events_df is empty\n",
        "    if events_df.empty:\n",
        "        return pd.DataFrame(columns=[\"visitorid\", \"total_events\", \"views\", \"adds\", \"buys\", \"add_rate\", \"conv_rate\"]).set_index(\"visitorid\")\n",
        "\n",
        "    for uid, g in events_df.groupby(\"visitorid\"):\n",
        "        total = len(g)\n",
        "        views = (g[\"event\"] == \"view\").sum()\n",
        "        adds = (g[\"event\"] == \"addtocart\").sum()\n",
        "        buys = (g[\"event\"] == \"transaction\").sum()\n",
        "        feats.append({\n",
        "            \"visitorid\": uid,\n",
        "            \"total_events\": total,\n",
        "            \"views\": views,\n",
        "            \"adds\": adds,\n",
        "            \"buys\": buys,\n",
        "            \"add_rate\": adds/total if total > 0 else 0,\n",
        "            \"conv_rate\": buys/total if total > 0 else 0\n",
        "        })\n",
        "    return pd.DataFrame(feats).set_index(\"visitorid\")\n",
        "\n",
        "user_feats = build_user_features(events)\n",
        "\n",
        "# Add a check for empty user_feats before applying IsolationForest\n",
        "if not user_feats.empty:\n",
        "    iso = IsolationForest(contamination=0.02, random_state=42)\n",
        "    user_feats[\"outlier\"] = (iso.fit_predict(user_feats) == -1).astype(int)\n",
        "    outlier_users = user_feats[user_feats[\"outlier\"] == 1].index\n",
        "    events = events[~events[\"visitorid\"].isin(outlier_users)]\n",
        "    print(f\"Removed {len(outlier_users)} abnormal users.\")\n",
        "else:\n",
        "    print(\"No user features to build after cleaning. Skipping outlier detection.\")\n",
        "\n",
        "\n",
        "# -----------------------\n",
        "# Step 4: Save cleaned datasets\n",
        "# -----------------------\n",
        "events.to_csv(\"events_cleaned.csv\", index=False)\n",
        "category_tree.to_csv(\"category_tree_cleaned.csv\", index=False)\n",
        "item_props.to_csv(\"item_properties_cleaned.csv\", index=False)\n",
        "\n",
        "print(\"Cleaned datasets saved.\")"
      ],
      "metadata": {
        "colab": {
          "base_uri": "https://localhost:8080/"
        },
        "id": "kCxQQG8fzntn",
        "outputId": "7ed06d9f-488b-492a-80a7-dc45161405a1"
      },
      "execution_count": 4,
      "outputs": [
        {
          "output_type": "stream",
          "name": "stdout",
          "text": [
            "Initial shapes:\n",
            "Events: (2756101, 5)\n",
            "Category Tree: (1669, 2)\n",
            "Item Properties: (2097150, 4)\n",
            "Removed 28111 abnormal users.\n",
            "Cleaned datasets saved.\n"
          ]
        }
      ]
    },
    {
      "cell_type": "code",
      "source": [
        "# Load cleaned datasets for further analysis\n",
        "events = pd.read_csv(\"events_cleaned.csv\", parse_dates=[\"timestamp\"])\n",
        "category_tree = pd.read_csv(\"category_tree_cleaned.csv\")\n",
        "item_props = pd.read_csv(\"item_properties_cleaned.csv\")\n",
        "\n",
        "print(\"Cleaned dataset shapes:\")\n",
        "print(\"Events:\", events.shape)\n",
        "print(\"Category Tree:\", category_tree.shape)\n",
        "print(\"Item Properties:\", item_props.shape)"
      ],
      "metadata": {
        "colab": {
          "base_uri": "https://localhost:8080/"
        },
        "id": "Ws52D7d4znGP",
        "outputId": "451a0f1e-8fef-438c-daa0-7adc509cd21d"
      },
      "execution_count": 5,
      "outputs": [
        {
          "output_type": "stream",
          "name": "stderr",
          "text": [
            "/tmp/ipython-input-138350073.py:2: UserWarning: Could not infer format, so each element will be parsed individually, falling back to `dateutil`. To ensure parsing is consistent and as-expected, please specify a format.\n",
            "  events = pd.read_csv(\"events_cleaned.csv\", parse_dates=[\"timestamp\"])\n"
          ]
        },
        {
          "output_type": "stream",
          "name": "stdout",
          "text": [
            "Cleaned dataset shapes:\n",
            "Events: (2211748, 5)\n",
            "Category Tree: (1669, 2)\n",
            "Item Properties: (2000246, 4)\n"
          ]
        }
      ]
    },
    {
      "cell_type": "code",
      "source": [
        "# Event type distribution\n",
        "plt.figure(figsize=(6,4))\n",
        "sns.countplot(data=events, x=\"event\", order=events[\"event\"].value_counts().index)\n",
        "plt.title(\"Event Type Distribution\")\n",
        "plt.show()\n",
        "\n"
      ],
      "metadata": {
        "colab": {
          "base_uri": "https://localhost:8080/",
          "height": 410
        },
        "id": "ksnkj-d2zkOz",
        "outputId": "ce8471f8-4cf4-4e85-a492-d8067d98d7cf"
      },
      "execution_count": 7,
      "outputs": [
        {
          "output_type": "display_data",
          "data": {
            "text/plain": [
              "<Figure size 600x400 with 1 Axes>"
            ],
            "image/png": "[encoded data removed]"
          },
          "metadata": {}
        }
      ]
    },
    {
      "cell_type": "code",
      "source": [
        "# Top 10 most active users\n",
        "top_users = events[\"visitorid\"].value_counts().head(10)\n",
        "plt.figure(figsize=(8,4))\n",
        "sns.barplot(x=top_users.index, y=top_users.values)\n",
        "plt.xticks(rotation=45)\n",
        "plt.title(\"Top 10 Most Active Users\")\n",
        "plt.show()\n",
        "\n"
      ],
      "metadata": {
        "colab": {
          "base_uri": "https://localhost:8080/",
          "height": 444
        },
        "id": "zDB6RbP1KL7E",
        "outputId": "714699b5-1d5f-4755-d7b9-91245fcf3964"
      },
      "execution_count": 8,
      "outputs": [
        {
          "output_type": "display_data",
          "data": {
            "text/plain": [
              "<Figure size 800x400 with 1 Axes>"
            ],
            "image/png": "[encoded data removed]"
          },
          "metadata": {}
        }
      ]
    },
    {
      "cell_type": "code",
      "source": [
        "# Top properties\n",
        "top_props = item_props[\"property\"].value_counts().head(10)\n",
        "plt.figure(figsize=(8,4))\n",
        "sns.barplot(x=top_props.index, y=top_props.values)\n",
        "plt.xticks(rotation=45)\n",
        "plt.title(\"Top 10 Item Properties\")\n",
        "plt.show()\n"
      ],
      "metadata": {
        "colab": {
          "base_uri": "https://localhost:8080/",
          "height": 459
        },
        "id": "QYHN-9owKj1Z",
        "outputId": "df118339-58e7-448f-992f-f9aadf20a09f"
      },
      "execution_count": 10,
      "outputs": [
        {
          "output_type": "display_data",
          "data": {
            "text/plain": [
              "<Figure size 800x400 with 1 Axes>"
            ],
            "image/png": "[encoded data removed]"
          },
          "metadata": {}
        }
      ]
    },
    {
      "cell_type": "code",
      "source": [
        "# Interactive property chart\n",
        "import plotly.express as px\n",
        "fig = px.bar(x=top_props.index, y=top_props.values, title=\"Top Properties (Interactive)\")\n",
        "fig.show()"
      ],
      "metadata": {
        "colab": {
          "base_uri": "https://localhost:8080/",
          "height": 542
        },
        "id": "ECebAS-bLOcD",
        "outputId": "99f26613-7a64-4777-9f3d-810b85b9862e"
      },
      "execution_count": 11,
      "outputs": [
        {
          "output_type": "display_data",
          "data": {
            "text/html": [
              "<html>\n",
              "<head><meta charset=\"utf-8\" /></head>\n",
              "<body>\n",
              "    <div>            <script src=\"https://cdnjs.cloudflare.com/ajax/libs/mathjax/2.7.5/MathJax.js?config=TeX-AMS-MML_SVG\"></script><script type=\"text/javascript\">if (window.MathJax && window.MathJax.Hub && window.MathJax.Hub.Config) {window.MathJax.Hub.Config({SVG: {font: \"STIX-Web\"}});}</script>                <script type=\"text/javascript\">window.PlotlyConfig = {MathJaxConfig: 'local'};</script>\n",
              "        <script charset=\"utf-8\" src=\"https://cdn.plot.ly/plotly-2.35.2.min.js\"></script>                <div id=\"9343b00c-ec4a-405f-8473-8916b5945b3f\" class=\"plotly-graph-div\" style=\"height:525px; width:100%;\"></div>            <script type=\"text/javascript\">                                    window.PLOTLYENV=window.PLOTLYENV || {};                                    if (document.getElementById(\"9343b00c-ec4a-405f-8473-8916b5945b3f\")) {                    Plotly.newPlot(                        \"9343b00c-ec4a-405f-8473-8916b5945b3f\",                        [{\"alignmentgroup\":\"True\",\"hovertemplate\":\"x=%{x}\\u003cbr\\u003ey=%{y}\\u003cextra\\u003e\\u003c\\u002fextra\\u003e\",\"legendgroup\":\"\",\"marker\":{\"color\":\"#636efa\",\"pattern\":{\"shape\":\"\"}},\"name\":\"\",\"offsetgroup\":\"\",\"orientation\":\"v\",\"showlegend\":false,\"textposition\":\"auto\",\"x\":[\"888\",\"790\",\"available\",\"categoryid\",\"6\",\"283\",\"776\",\"678\",\"364\",\"202\"],\"xaxis\":\"x\",\"y\":[302400,185846,154612,81194,65471,61546,59432,49397,49014,45329],\"yaxis\":\"y\",\"type\":\"bar\"}],                        {\"template\":{\"data\":{\"histogram2dcontour\":[{\"type\":\"histogram2dcontour\",\"colorbar\":{\"outlinewidth\":0,\"ticks\":\"\"},\"colorscale\":[[0.0,\"#0d0887\"],[0.1111111111111111,\"#46039f\"],[0.2222222222222222,\"#7201a8\"],[0.3333333333333333,\"#9c179e\"],[0.4444444444444444,\"#bd3786\"],[0.5555555555555556,\"#d8576b\"],[0.6666666666666666,\"#ed7953\"],[0.7777777777777778,\"#fb9f3a\"],[0.8888888888888888,\"#fdca26\"],[1.0,\"#f0f921\"]]}],\"choropleth\":[{\"type\":\"choropleth\",\"colorbar\":{\"outlinewidth\":0,\"ticks\":\"\"}}],\"histogram2d\":[{\"type\":\"histogram2d\",\"colorbar\":{\"outlinewidth\":0,\"ticks\":\"\"},\"colorscale\":[[0.0,\"#0d0887\"],[0.1111111111111111,\"#46039f\"],[0.2222222222222222,\"#7201a8\"],[0.3333333333333333,\"#9c179e\"],[0.4444444444444444,\"#bd3786\"],[0.5555555555555556,\"#d8576b\"],[0.6666666666666666,\"#ed7953\"],[0.7777777777777778,\"#fb9f3a\"],[0.8888888888888888,\"#fdca26\"],[1.0,\"#f0f921\"]]}],\"heatmap\":[{\"type\":\"heatmap\",\"colorbar\":{\"outlinewidth\":0,\"ticks\":\"\"},\"colorscale\":[[0.0,\"#0d0887\"],[0.1111111111111111,\"#46039f\"],[0.2222222222222222,\"#7201a8\"],[0.3333333333333333,\"#9c179e\"],[0.4444444444444444,\"#bd3786\"],[0.5555555555555556,\"#d8576b\"],[0.6666666666666666,\"#ed7953\"],[0.7777777777777778,\"#fb9f3a\"],[0.8888888888888888,\"#fdca26\"],[1.0,\"#f0f921\"]]}],\"heatmapgl\":[{\"type\":\"heatmapgl\",\"colorbar\":{\"outlinewidth\":0,\"ticks\":\"\"},\"colorscale\":[[0.0,\"#0d0887\"],[0.1111111111111111,\"#46039f\"],[0.2222222222222222,\"#7201a8\"],[0.3333333333333333,\"#9c179e\"],[0.4444444444444444,\"#bd3786\"],[0.5555555555555556,\"#d8576b\"],[0.6666666666666666,\"#ed7953\"],[0.7777777777777778,\"#fb9f3a\"],[0.8888888888888888,\"#fdca26\"],[1.0,\"#f0f921\"]]}],\"contourcarpet\":[{\"type\":\"contourcarpet\",\"colorbar\":{\"outlinewidth\":0,\"ticks\":\"\"}}],\"contour\":[{\"type\":\"contour\",\"colorbar\":{\"outlinewidth\":0,\"ticks\":\"\"},\"colorscale\":[[0.0,\"#0d0887\"],[0.1111111111111111,\"#46039f\"],[0.2222222222222222,\"#7201a8\"],[0.3333333333333333,\"#9c179e\"],[0.4444444444444444,\"#bd3786\"],[0.5555555555555556,\"#d8576b\"],[0.6666666666666666,\"#ed7953\"],[0.7777777777777778,\"#fb9f3a\"],[0.8888888888888888,\"#fdca26\"],[1.0,\"#f0f921\"]]}],\"surface\":[{\"type\":\"surface\",\"colorbar\":{\"outlinewidth\":0,\"ticks\":\"\"},\"colorscale\":[[0.0,\"#0d0887\"],[0.1111111111111111,\"#46039f\"],[0.2222222222222222,\"#7201a8\"],[0.3333333333333333,\"#9c179e\"],[0.4444444444444444,\"#bd3786\"],[0.5555555555555556,\"#d8576b\"],[0.6666666666666666,\"#ed7953\"],[0.7777777777777778,\"#fb9f3a\"],[0.8888888888888888,\"#fdca26\"],[1.0,\"#f0f921\"]]}],\"mesh3d\":[{\"type\":\"mesh3d\",\"colorbar\":{\"outlinewidth\":0,\"ticks\":\"\"}}],\"scatter\":[{\"fillpattern\":{\"fillmode\":\"overlay\",\"size\":10,\"solidity\":0.2},\"type\":\"scatter\"}],\"parcoords\":[{\"type\":\"parcoords\",\"line\":{\"colorbar\":{\"outlinewidth\":0,\"ticks\":\"\"}}}],\"scatterpolargl\":[{\"type\":\"scatterpolargl\",\"marker\":{\"colorbar\":{\"outlinewidth\":0,\"ticks\":\"\"}}}],\"bar\":[{\"error_x\":{\"color\":\"#2a3f5f\"},\"error_y\":{\"color\":\"#2a3f5f\"},\"marker\":{\"line\":{\"color\":\"#E5ECF6\",\"width\":0.5},\"pattern\":{\"fillmode\":\"overlay\",\"size\":10,\"solidity\":0.2}},\"type\":\"bar\"}],\"scattergeo\":[{\"type\":\"scattergeo\",\"marker\":{\"colorbar\":{\"outlinewidth\":0,\"ticks\":\"\"}}}],\"scatterpolar\":[{\"type\":\"scatterpolar\",\"marker\":{\"colorbar\":{\"outlinewidth\":0,\"ticks\":\"\"}}}],\"histogram\":[{\"marker\":{\"pattern\":{\"fillmode\":\"overlay\",\"size\":10,\"solidity\":0.2}},\"type\":\"histogram\"}],\"scattergl\":[{\"type\":\"scattergl\",\"marker\":{\"colorbar\":{\"outlinewidth\":0,\"ticks\":\"\"}}}],\"scatter3d\":[{\"type\":\"scatter3d\",\"line\":{\"colorbar\":{\"outlinewidth\":0,\"ticks\":\"\"}},\"marker\":{\"colorbar\":{\"outlinewidth\":0,\"ticks\":\"\"}}}],\"scattermapbox\":[{\"type\":\"scattermapbox\",\"marker\":{\"colorbar\":{\"outlinewidth\":0,\"ticks\":\"\"}}}],\"scatterternary\":[{\"type\":\"scatterternary\",\"marker\":{\"colorbar\":{\"outlinewidth\":0,\"ticks\":\"\"}}}],\"scattercarpet\":[{\"type\":\"scattercarpet\",\"marker\":{\"colorbar\":{\"outlinewidth\":0,\"ticks\":\"\"}}}],\"carpet\":[{\"aaxis\":{\"endlinecolor\":\"#2a3f5f\",\"gridcolor\":\"white\",\"linecolor\":\"white\",\"minorgridcolor\":\"white\",\"startlinecolor\":\"#2a3f5f\"},\"baxis\":{\"endlinecolor\":\"#2a3f5f\",\"gridcolor\":\"white\",\"linecolor\":\"white\",\"minorgridcolor\":\"white\",\"startlinecolor\":\"#2a3f5f\"},\"type\":\"carpet\"}],\"table\":[{\"cells\":{\"fill\":{\"color\":\"#EBF0F8\"},\"line\":{\"color\":\"white\"}},\"header\":{\"fill\":{\"color\":\"#C8D4E3\"},\"line\":{\"color\":\"white\"}},\"type\":\"table\"}],\"barpolar\":[{\"marker\":{\"line\":{\"color\":\"#E5ECF6\",\"width\":0.5},\"pattern\":{\"fillmode\":\"overlay\",\"size\":10,\"solidity\":0.2}},\"type\":\"barpolar\"}],\"pie\":[{\"automargin\":true,\"type\":\"pie\"}]},\"layout\":{\"autotypenumbers\":\"strict\",\"colorway\":[\"#636efa\",\"#EF553B\",\"#00cc96\",\"#ab63fa\",\"#FFA15A\",\"#19d3f3\",\"#FF6692\",\"#B6E880\",\"#FF97FF\",\"#FECB52\"],\"font\":{\"color\":\"#2a3f5f\"},\"hovermode\":\"closest\",\"hoverlabel\":{\"align\":\"left\"},\"paper_bgcolor\":\"white\",\"plot_bgcolor\":\"#E5ECF6\",\"polar\":{\"bgcolor\":\"#E5ECF6\",\"angularaxis\":{\"gridcolor\":\"white\",\"linecolor\":\"white\",\"ticks\":\"\"},\"radialaxis\":{\"gridcolor\":\"white\",\"linecolor\":\"white\",\"ticks\":\"\"}},\"ternary\":{\"bgcolor\":\"#E5ECF6\",\"aaxis\":{\"gridcolor\":\"white\",\"linecolor\":\"white\",\"ticks\":\"\"},\"baxis\":{\"gridcolor\":\"white\",\"linecolor\":\"white\",\"ticks\":\"\"},\"caxis\":{\"gridcolor\":\"white\",\"linecolor\":\"white\",\"ticks\":\"\"}},\"coloraxis\":{\"colorbar\":{\"outlinewidth\":0,\"ticks\":\"\"}},\"colorscale\":{\"sequential\":[[0.0,\"#0d0887\"],[0.1111111111111111,\"#46039f\"],[0.2222222222222222,\"#7201a8\"],[0.3333333333333333,\"#9c179e\"],[0.4444444444444444,\"#bd3786\"],[0.5555555555555556,\"#d8576b\"],[0.6666666666666666,\"#ed7953\"],[0.7777777777777778,\"#fb9f3a\"],[0.8888888888888888,\"#fdca26\"],[1.0,\"#f0f921\"]],\"sequentialminus\":[[0.0,\"#0d0887\"],[0.1111111111111111,\"#46039f\"],[0.2222222222222222,\"#7201a8\"],[0.3333333333333333,\"#9c179e\"],[0.4444444444444444,\"#bd3786\"],[0.5555555555555556,\"#d8576b\"],[0.6666666666666666,\"#ed7953\"],[0.7777777777777778,\"#fb9f3a\"],[0.8888888888888888,\"#fdca26\"],[1.0,\"#f0f921\"]],\"diverging\":[[0,\"#8e0152\"],[0.1,\"#c51b7d\"],[0.2,\"#de77ae\"],[0.3,\"#f1b6da\"],[0.4,\"#fde0ef\"],[0.5,\"#f7f7f7\"],[0.6,\"#e6f5d0\"],[0.7,\"#b8e186\"],[0.8,\"#7fbc41\"],[0.9,\"#4d9221\"],[1,\"#276419\"]]},\"xaxis\":{\"gridcolor\":\"white\",\"linecolor\":\"white\",\"ticks\":\"\",\"title\":{\"standoff\":15},\"zerolinecolor\":\"white\",\"automargin\":true,\"zerolinewidth\":2},\"yaxis\":{\"gridcolor\":\"white\",\"linecolor\":\"white\",\"ticks\":\"\",\"title\":{\"standoff\":15},\"zerolinecolor\":\"white\",\"automargin\":true,\"zerolinewidth\":2},\"scene\":{\"xaxis\":{\"backgroundcolor\":\"#E5ECF6\",\"gridcolor\":\"white\",\"linecolor\":\"white\",\"showbackground\":true,\"ticks\":\"\",\"zerolinecolor\":\"white\",\"gridwidth\":2},\"yaxis\":{\"backgroundcolor\":\"#E5ECF6\",\"gridcolor\":\"white\",\"linecolor\":\"white\",\"showbackground\":true,\"ticks\":\"\",\"zerolinecolor\":\"white\",\"gridwidth\":2},\"zaxis\":{\"backgroundcolor\":\"#E5ECF6\",\"gridcolor\":\"white\",\"linecolor\":\"white\",\"showbackground\":true,\"ticks\":\"\",\"zerolinecolor\":\"white\",\"gridwidth\":2}},\"shapedefaults\":{\"line\":{\"color\":\"#2a3f5f\"}},\"annotationdefaults\":{\"arrowcolor\":\"#2a3f5f\",\"arrowhead\":0,\"arrowwidth\":1},\"geo\":{\"bgcolor\":\"white\",\"landcolor\":\"#E5ECF6\",\"subunitcolor\":\"white\",\"showland\":true,\"showlakes\":true,\"lakecolor\":\"white\"},\"title\":{\"x\":0.05},\"mapbox\":{\"style\":\"light\"}}},\"xaxis\":{\"anchor\":\"y\",\"domain\":[0.0,1.0],\"title\":{\"text\":\"x\"}},\"yaxis\":{\"anchor\":\"x\",\"domain\":[0.0,1.0],\"title\":{\"text\":\"y\"}},\"legend\":{\"tracegroupgap\":0},\"title\":{\"text\":\"Top Properties (Interactive)\"},\"barmode\":\"relative\"},                        {\"responsive\": true}                    ).then(function(){\n",
              "                            \n",
              "var gd = document.getElementById('9343b00c-ec4a-405f-8473-8916b5945b3f');\n",
              "var x = new MutationObserver(function (mutations, observer) {{\n",
              "        var display = window.getComputedStyle(gd).display;\n",
              "        if (!display || display === 'none') {{\n",
              "            console.log([gd, 'removed!']);\n",
              "            Plotly.purge(gd);\n",
              "            observer.disconnect();\n",
              "        }}\n",
              "}});\n",
              "\n",
              "// Listen for the removal of the full notebook cells\n",
              "var notebookContainer = gd.closest('#notebook-container');\n",
              "if (notebookContainer) {{\n",
              "    x.observe(notebookContainer, {childList: true});\n",
              "}}\n",
              "\n",
              "// Listen for the clearing of the current output cell\n",
              "var outputEl = gd.closest('.output');\n",
              "if (outputEl) {{\n",
              "    x.observe(outputEl, {childList: true});\n",
              "}}\n",
              "\n",
              "                        })                };                            </script>        </div>\n",
              "</body>\n",
              "</html>"
            ]
          },
          "metadata": {}
        }
      ]
    },
    {
      "cell_type": "code",
      "source": [
        "# Remove rows where property is \"available\" or \"categoryid\"\n",
        "item_props = item_props[~item_props[\"property\"].isin([\"available\", \"categoryid\"])]\n",
        "\n",
        "print(f\"Dataset shape after removal: {item_props.shape}\")\n",
        "print(item_props[\"property\"].value_counts().head(10))"
      ],
      "metadata": {
        "colab": {
          "base_uri": "https://localhost:8080/"
        },
        "id": "P8T0mNhwQ_vM",
        "outputId": "bae6af12-e5be-47a1-e915-74be5e2629eb"
      },
      "execution_count": 14,
      "outputs": [
        {
          "output_type": "stream",
          "name": "stdout",
          "text": [
            "Dataset shape after removal: (1764440, 4)\n",
            "property\n",
            "888    302400\n",
            "790    185846\n",
            "6       65471\n",
            "283     61546\n",
            "776     59432\n",
            "678     49397\n",
            "364     49014\n",
            "202     45329\n",
            "159     43376\n",
            "764     43325\n",
            "Name: count, dtype: int64\n"
          ]
        }
      ]
    },
    {
      "cell_type": "code",
      "source": [
        "item_props.info()"
      ],
      "metadata": {
        "colab": {
          "base_uri": "https://localhost:8080/"
        },
        "id": "R3XE7PSMTX0m",
        "outputId": "8d5cb8e5-0cb0-4f51-db9f-acdf134a6922"
      },
      "execution_count": 16,
      "outputs": [
        {
          "output_type": "stream",
          "name": "stdout",
          "text": [
            "<class 'pandas.core.frame.DataFrame'>\n",
            "Index: 1764440 entries, 1 to 2000245\n",
            "Data columns (total 4 columns):\n",
            " #   Column     Dtype  \n",
            "---  ------     -----  \n",
            " 0   timestamp  float64\n",
            " 1   itemid     int64  \n",
            " 2   property   object \n",
            " 3   value      object \n",
            "dtypes: float64(1), int64(1), object(2)\n",
            "memory usage: 67.3+ MB\n"
          ]
        }
      ]
    },
    {
      "cell_type": "code",
      "source": [
        "item_props.to_csv(\"item_props_cleaned.csv\", index=False)"
      ],
      "metadata": {
        "id": "HdkW1LI7TiIB"
      },
      "execution_count": 17,
      "outputs": []
    },
    {
      "cell_type": "code",
      "source": [
        "!pip install implicit lightgbm"
      ],
      "metadata": {
        "id": "uhB9EIQsrLK-",
        "colab": {
          "base_uri": "https://localhost:8080/"
        },
        "outputId": "bec4e639-8adc-4505-9739-03b329f45586"
      },
      "execution_count": 19,
      "outputs": [
        {
          "output_type": "stream",
          "name": "stdout",
          "text": [
            "Collecting implicit\n",
            "  Downloading implicit-0.7.2-cp311-cp311-manylinux2014_x86_64.whl.metadata (6.1 kB)\n",
            "Requirement already satisfied: lightgbm in /usr/local/lib/python3.11/dist-packages (4.6.0)\n",
            "Requirement already satisfied: numpy>=1.17.0 in /usr/local/lib/python3.11/dist-packages (from implicit) (2.0.2)\n",
            "Requirement already satisfied: scipy>=0.16 in /usr/local/lib/python3.11/dist-packages (from implicit) (1.16.1)\n",
            "Requirement already satisfied: tqdm>=4.27 in /usr/local/lib/python3.11/dist-packages (from implicit) (4.67.1)\n",
            "Requirement already satisfied: threadpoolctl in /usr/local/lib/python3.11/dist-packages (from implicit) (3.6.0)\n",
            "Downloading implicit-0.7.2-cp311-cp311-manylinux2014_x86_64.whl (8.9 MB)\n",
            "\u001b[2K   \u001b[90m━━━━━━━━━━━━━━━━━━━━━━━━━━━━━━━━━━━━━━━━\u001b[0m \u001b[32m8.9/8.9 MB\u001b[0m \u001b[31m12.5 MB/s\u001b[0m eta \u001b[36m0:00:00\u001b[0m\n",
            "\u001b[?25hInstalling collected packages: implicit\n",
            "Successfully installed implicit-0.7.2\n"
          ]
        }
      ]
    },
    {
      "cell_type": "code",
      "execution_count": 20,
      "metadata": {
        "id": "My-VDjVFqaAZ"
      },
      "outputs": [],
      "source": [
        "import pandas as pd\n",
        "import numpy as np\n",
        "from scipy import sparse\n",
        "from sklearn.preprocessing import LabelEncoder\n",
        "from sklearn.model_selection import train_test_split\n",
        "from sklearn.metrics import accuracy_score\n",
        "from sklearn.feature_extraction.text import TfidfVectorizer\n",
        "from sklearn.linear_model import LogisticRegression\n",
        "from sklearn.pipeline import Pipeline\n",
        "from sklearn.ensemble import IsolationForest\n",
        "from collections import Counter"
      ]
    },
    {
      "cell_type": "code",
      "source": [
        "# Try importing implicit (ALS)\n",
        "try:\n",
        "    import implicit\n",
        "except ImportError:\n",
        "    implicit = None"
      ],
      "metadata": {
        "id": "sd_HDk19uILS"
      },
      "execution_count": 21,
      "outputs": []
    },
    {
      "cell_type": "code",
      "source": [
        "# -------------------------------\n",
        "# Step 1: Load & Clean Data\n",
        "# -------------------------------\n",
        "def clean_value(val):\n",
        "    \"\"\"Convert 'n123' -> 123 (int), keep others unchanged.\"\"\"\n",
        "    if isinstance(val, str) and val.startswith(\"n\"):\n",
        "        try:\n",
        "            return int(val[1:])\n",
        "        except ValueError:\n",
        "            return val\n",
        "    return val\n",
        "\n",
        "MAX_EVENTS = None  # limit for demo speed"
      ],
      "metadata": {
        "id": "e3IS9P_AujJA"
      },
      "execution_count": 38,
      "outputs": []
    },
    {
      "cell_type": "code",
      "source": [
        "# Load events\n",
        "events = pd.read_csv(\"/content/events_cleaned.csv\", nrows=MAX_EVENTS)\n",
        "\n",
        "# Load and clean item_properties\n",
        "item_props = pd.read_csv(\"/content/item_props_cleaned.csv\",\n",
        "                         names=[\"timestamp\", \"itemid\", \"property\", \"value\"],\n",
        "                         skiprows=1) # Skip the header row\n",
        "item_props[\"value\"] = item_props[\"value\"].apply(clean_value)\n",
        "\n",
        "# Load category_tree\n",
        "category_tree = pd.read_csv(\"/content/category_tree_cleaned.csv\",\n",
        "                            names=[\"child\", \"parent\"])\n",
        "\n",
        "print(f\"Events shape: {events.shape}\")\n",
        "print(f\"Item properties shape: {item_props.shape}\")\n",
        "print(f\"Category tree shape: {category_tree.shape}\")"
      ],
      "metadata": {
        "colab": {
          "base_uri": "https://localhost:8080/"
        },
        "id": "DfWSv9XYvBYt",
        "outputId": "cc9b715c-d073-4770-db42-6ea741e73ae8"
      },
      "execution_count": 40,
      "outputs": [
        {
          "output_type": "stream",
          "name": "stdout",
          "text": [
            "Events shape: (2211748, 5)\n",
            "Item properties shape: (1764440, 4)\n",
            "Category tree shape: (1670, 2)\n"
          ]
        }
      ]
    },
    {
      "cell_type": "code",
      "source": [
        "item_props.head()"
      ],
      "metadata": {
        "colab": {
          "base_uri": "https://localhost:8080/",
          "height": 206
        },
        "id": "k1G1MuurVYjG",
        "outputId": "4ace84ff-b112-4dbc-976f-ed04539c199b"
      },
      "execution_count": 41,
      "outputs": [
        {
          "output_type": "execute_result",
          "data": {
            "text/plain": [
              "      timestamp  itemid  property                    value\n",
              "0  1.441510e+12  206783       888  1116713 960601 n277.200\n",
              "1  1.431230e+12   59481       790                  15360.0\n",
              "2  1.431830e+12  156781       917                   828513\n",
              "3  1.434250e+12   89534       213                  1121373\n",
              "4  1.431830e+12  264312         6                   319724"
            ],
            "text/html": [
              "\n",
              "  <div id=\"df-16c513a0-14cb-47d6-9444-af529822af29\" class=\"colab-df-container\">\n",
              "    <div>\n",
              "<style scoped>\n",
              "    .dataframe tbody tr th:only-of-type {\n",
              "        vertical-align: middle;\n",
              "    }\n",
              "\n",
              "    .dataframe tbody tr th {\n",
              "        vertical-align: top;\n",
              "    }\n",
              "\n",
              "    .dataframe thead th {\n",
              "        text-align: right;\n",
              "    }\n",
              "</style>\n",
              "<table border=\"1\" class=\"dataframe\">\n",
              "  <thead>\n",
              "    <tr style=\"text-align: right;\">\n",
              "      <th></th>\n",
              "      <th>timestamp</th>\n",
              "      <th>itemid</th>\n",
              "      <th>property</th>\n",
              "      <th>value</th>\n",
              "    </tr>\n",
              "  </thead>\n",
              "  <tbody>\n",
              "    <tr>\n",
              "      <th>0</th>\n",
              "      <td>1.441510e+12</td>\n",
              "      <td>206783</td>\n",
              "      <td>888</td>\n",
              "      <td>1116713 960601 n277.200</td>\n",
              "    </tr>\n",
              "    <tr>\n",
              "      <th>1</th>\n",
              "      <td>1.431230e+12</td>\n",
              "      <td>59481</td>\n",
              "      <td>790</td>\n",
              "      <td>15360.0</td>\n",
              "    </tr>\n",
              "    <tr>\n",
              "      <th>2</th>\n",
              "      <td>1.431830e+12</td>\n",
              "      <td>156781</td>\n",
              "      <td>917</td>\n",
              "      <td>828513</td>\n",
              "    </tr>\n",
              "    <tr>\n",
              "      <th>3</th>\n",
              "      <td>1.434250e+12</td>\n",
              "      <td>89534</td>\n",
              "      <td>213</td>\n",
              "      <td>1121373</td>\n",
              "    </tr>\n",
              "    <tr>\n",
              "      <th>4</th>\n",
              "      <td>1.431830e+12</td>\n",
              "      <td>264312</td>\n",
              "      <td>6</td>\n",
              "      <td>319724</td>\n",
              "    </tr>\n",
              "  </tbody>\n",
              "</table>\n",
              "</div>\n",
              "    <div class=\"colab-df-buttons\">\n",
              "\n",
              "  <div class=\"colab-df-container\">\n",
              "    <button class=\"colab-df-convert\" onclick=\"convertToInteractive('df-16c513a0-14cb-47d6-9444-af529822af29')\"\n",
              "            title=\"Convert this dataframe to an interactive table.\"\n",
              "            style=\"display:none;\">\n",
              "\n",
              "  <svg xmlns=\"http://www.w3.org/2000/svg\" height=\"24px\" viewBox=\"0 -960 960 960\">\n",
              "    <path d=\"M120-120v-720h720v720H120Zm60-500h600v-160H180v160Zm220 220h160v-160H400v160Zm0 220h160v-160H400v160ZM180-400h160v-160H180v160Zm440 0h160v-160H620v160ZM180-180h160v-160H180v160Zm440 0h160v-160H620v160Z\"/>\n",
              "  </svg>\n",
              "    </button>\n",
              "\n",
              "  <style>\n",
              "    .colab-df-container {\n",
              "      display:flex;\n",
              "      gap: 12px;\n",
              "    }\n",
              "\n",
              "    .colab-df-convert {\n",
              "      background-color: #E8F0FE;\n",
              "      border: none;\n",
              "      border-radius: 50%;\n",
              "      cursor: pointer;\n",
              "      display: none;\n",
              "      fill: #1967D2;\n",
              "      height: 32px;\n",
              "      padding: 0 0 0 0;\n",
              "      width: 32px;\n",
              "    }\n",
              "\n",
              "    .colab-df-convert:hover {\n",
              "      background-color: #E2EBFA;\n",
              "      box-shadow: 0px 1px 2px rgba(60, 64, 67, 0.3), 0px 1px 3px 1px rgba(60, 64, 67, 0.15);\n",
              "      fill: #174EA6;\n",
              "    }\n",
              "\n",
              "    .colab-df-buttons div {\n",
              "      margin-bottom: 4px;\n",
              "    }\n",
              "\n",
              "    [theme=dark] .colab-df-convert {\n",
              "      background-color: #3B4455;\n",
              "      fill: #D2E3FC;\n",
              "    }\n",
              "\n",
              "    [theme=dark] .colab-df-convert:hover {\n",
              "      background-color: #434B5C;\n",
              "      box-shadow: 0px 1px 3px 1px rgba(0, 0, 0, 0.15);\n",
              "      filter: drop-shadow(0px 1px 2px rgba(0, 0, 0, 0.3));\n",
              "      fill: #FFFFFF;\n",
              "    }\n",
              "  </style>\n",
              "\n",
              "    <script>\n",
              "      const buttonEl =\n",
              "        document.querySelector('#df-16c513a0-14cb-47d6-9444-af529822af29 button.colab-df-convert');\n",
              "      buttonEl.style.display =\n",
              "        google.colab.kernel.accessAllowed ? 'block' : 'none';\n",
              "\n",
              "      async function convertToInteractive(key) {\n",
              "        const element = document.querySelector('#df-16c513a0-14cb-47d6-9444-af529822af29');\n",
              "        const dataTable =\n",
              "          await google.colab.kernel.invokeFunction('convertToInteractive',\n",
              "                                                    [key], {});\n",
              "        if (!dataTable) return;\n",
              "\n",
              "        const docLinkHtml = 'Like what you see? Visit the ' +\n",
              "          '<a target=\"_blank\" href=https://colab.research.google.com/notebooks/data_table.ipynb>data table notebook</a>'\n",
              "          + ' to learn more about interactive tables.';\n",
              "        element.innerHTML = '';\n",
              "        dataTable['output_type'] = 'display_data';\n",
              "        await google.colab.output.renderOutput(dataTable, element);\n",
              "        const docLink = document.createElement('div');\n",
              "        docLink.innerHTML = docLinkHtml;\n",
              "        element.appendChild(docLink);\n",
              "      }\n",
              "    </script>\n",
              "  </div>\n",
              "\n",
              "\n",
              "    <div id=\"df-64139477-126c-42d6-8e90-a870d4f6e6f1\">\n",
              "      <button class=\"colab-df-quickchart\" onclick=\"quickchart('df-64139477-126c-42d6-8e90-a870d4f6e6f1')\"\n",
              "                title=\"Suggest charts\"\n",
              "                style=\"display:none;\">\n",
              "\n",
              "<svg xmlns=\"http://www.w3.org/2000/svg\" height=\"24px\"viewBox=\"0 0 24 24\"\n",
              "     width=\"24px\">\n",
              "    <g>\n",
              "        <path d=\"M19 3H5c-1.1 0-2 .9-2 2v14c0 1.1.9 2 2 2h14c1.1 0 2-.9 2-2V5c0-1.1-.9-2-2-2zM9 17H7v-7h2v7zm4 0h-2V7h2v10zm4 0h-2v-4h2v4z\"/>\n",
              "    </g>\n",
              "</svg>\n",
              "      </button>\n",
              "\n",
              "<style>\n",
              "  .colab-df-quickchart {\n",
              "      --bg-color: #E8F0FE;\n",
              "      --fill-color: #1967D2;\n",
              "      --hover-bg-color: #E2EBFA;\n",
              "      --hover-fill-color: #174EA6;\n",
              "      --disabled-fill-color: #AAA;\n",
              "      --disabled-bg-color: #DDD;\n",
              "  }\n",
              "\n",
              "  [theme=dark] .colab-df-quickchart {\n",
              "      --bg-color: #3B4455;\n",
              "      --fill-color: #D2E3FC;\n",
              "      --hover-bg-color: #434B5C;\n",
              "      --hover-fill-color: #FFFFFF;\n",
              "      --disabled-bg-color: #3B4455;\n",
              "      --disabled-fill-color: #666;\n",
              "  }\n",
              "\n",
              "  .colab-df-quickchart {\n",
              "    background-color: var(--bg-color);\n",
              "    border: none;\n",
              "    border-radius: 50%;\n",
              "    cursor: pointer;\n",
              "    display: none;\n",
              "    fill: var(--fill-color);\n",
              "    height: 32px;\n",
              "    padding: 0;\n",
              "    width: 32px;\n",
              "  }\n",
              "\n",
              "  .colab-df-quickchart:hover {\n",
              "    background-color: var(--hover-bg-color);\n",
              "    box-shadow: 0 1px 2px rgba(60, 64, 67, 0.3), 0 1px 3px 1px rgba(60, 64, 67, 0.15);\n",
              "    fill: var(--button-hover-fill-color);\n",
              "  }\n",
              "\n",
              "  .colab-df-quickchart-complete:disabled,\n",
              "  .colab-df-quickchart-complete:disabled:hover {\n",
              "    background-color: var(--disabled-bg-color);\n",
              "    fill: var(--disabled-fill-color);\n",
              "    box-shadow: none;\n",
              "  }\n",
              "\n",
              "  .colab-df-spinner {\n",
              "    border: 2px solid var(--fill-color);\n",
              "    border-color: transparent;\n",
              "    border-bottom-color: var(--fill-color);\n",
              "    animation:\n",
              "      spin 1s steps(1) infinite;\n",
              "  }\n",
              "\n",
              "  @keyframes spin {\n",
              "    0% {\n",
              "      border-color: transparent;\n",
              "      border-bottom-color: var(--fill-color);\n",
              "      border-left-color: var(--fill-color);\n",
              "    }\n",
              "    20% {\n",
              "      border-color: transparent;\n",
              "      border-left-color: var(--fill-color);\n",
              "      border-top-color: var(--fill-color);\n",
              "    }\n",
              "    30% {\n",
              "      border-color: transparent;\n",
              "      border-left-color: var(--fill-color);\n",
              "      border-top-color: var(--fill-color);\n",
              "      border-right-color: var(--fill-color);\n",
              "    }\n",
              "    40% {\n",
              "      border-color: transparent;\n",
              "      border-right-color: var(--fill-color);\n",
              "      border-top-color: var(--fill-color);\n",
              "    }\n",
              "    60% {\n",
              "      border-color: transparent;\n",
              "      border-right-color: var(--fill-color);\n",
              "    }\n",
              "    80% {\n",
              "      border-color: transparent;\n",
              "      border-right-color: var(--fill-color);\n",
              "      border-bottom-color: var(--fill-color);\n",
              "    }\n",
              "    90% {\n",
              "      border-color: transparent;\n",
              "      border-bottom-color: var(--fill-color);\n",
              "    }\n",
              "  }\n",
              "</style>\n",
              "\n",
              "      <script>\n",
              "        async function quickchart(key) {\n",
              "          const quickchartButtonEl =\n",
              "            document.querySelector('#' + key + ' button');\n",
              "          quickchartButtonEl.disabled = true;  // To prevent multiple clicks.\n",
              "          quickchartButtonEl.classList.add('colab-df-spinner');\n",
              "          try {\n",
              "            const charts = await google.colab.kernel.invokeFunction(\n",
              "                'suggestCharts', [key], {});\n",
              "          } catch (error) {\n",
              "            console.error('Error during call to suggestCharts:', error);\n",
              "          }\n",
              "          quickchartButtonEl.classList.remove('colab-df-spinner');\n",
              "          quickchartButtonEl.classList.add('colab-df-quickchart-complete');\n",
              "        }\n",
              "        (() => {\n",
              "          let quickchartButtonEl =\n",
              "            document.querySelector('#df-64139477-126c-42d6-8e90-a870d4f6e6f1 button');\n",
              "          quickchartButtonEl.style.display =\n",
              "            google.colab.kernel.accessAllowed ? 'block' : 'none';\n",
              "        })();\n",
              "      </script>\n",
              "    </div>\n",
              "\n",
              "    </div>\n",
              "  </div>\n"
            ],
            "application/vnd.google.colaboratory.intrinsic+json": {
              "type": "dataframe",
              "variable_name": "item_props"
            }
          },
          "metadata": {},
          "execution_count": 41
        }
      ]
    },
    {
      "cell_type": "code",
      "source": [
        "import re\n",
        "\n",
        "# Keep only rows where 'value' has no spaces\n",
        "# and optionally matches a clean number pattern\n",
        "pattern_single_value = re.compile(r'^[^\\s]+$')  # no spaces\n",
        "\n",
        "item_props = item_props[item_props['value'].apply(lambda x: bool(pattern_single_value.match(str(x))))]\n",
        "\n",
        "print(f\"Shape after removing multi-part values: {item_props.shape}\")\n",
        "print(item_props.head(10))"
      ],
      "metadata": {
        "colab": {
          "base_uri": "https://localhost:8080/"
        },
        "id": "emD-ioKTWGNg",
        "outputId": "63a6500d-7f8d-4abe-cbcf-0fb170bc513c"
      },
      "execution_count": 42,
      "outputs": [
        {
          "output_type": "stream",
          "name": "stdout",
          "text": [
            "Shape after removing multi-part values: (1103288, 4)\n",
            "       timestamp  itemid  property    value\n",
            "1   1.431230e+12   59481       790  15360.0\n",
            "2   1.431830e+12  156781       917   828513\n",
            "3   1.434250e+12   89534       213  1121373\n",
            "4   1.431830e+12  264312         6   319724\n",
            "5   1.433650e+12  229370       202  1330310\n",
            "10  1.434250e+12  169055       790  21000.0\n",
            "11  1.435460e+12  178601       790   5400.0\n",
            "12  1.436670e+12  319291       888  1292080\n",
            "14  1.431230e+12  344365       159   519769\n",
            "15  1.434250e+12  269797       159   519769\n"
          ]
        }
      ]
    },
    {
      "cell_type": "code",
      "source": [
        "item_props.to_csv(\"item_props_cleaned_n.csv\", index=False)"
      ],
      "metadata": {
        "id": "bbeRxR0nWYOd"
      },
      "execution_count": 43,
      "outputs": []
    },
    {
      "cell_type": "code",
      "source": [
        "# -------------------------------\n",
        "# Step 2: Candidate Generation\n",
        "# -------------------------------\n",
        "def build_user_item_matrix(events_df):\n",
        "    weight_map = {\"view\": 1.0, \"addtocart\": 3.0, \"transaction\": 5.0}\n",
        "    events_df[\"weight\"] = events_df[\"event\"].map(weight_map).fillna(1.0)\n",
        "    user_enc = LabelEncoder()\n",
        "    item_enc = LabelEncoder()\n",
        "    events_df[\"user_idx\"] = user_enc.fit_transform(events_df[\"visitorid\"])\n",
        "    events_df[\"item_idx\"] = item_enc.fit_transform(events_df[\"itemid\"])\n",
        "    rows, cols, vals = events_df[\"user_idx\"].values, events_df[\"item_idx\"].values, events_df[\"weight\"].values\n",
        "    ui_matrix = sparse.coo_matrix((vals, (rows, cols)),\n",
        "                                  shape=(len(user_enc.classes_), len(item_enc.classes_)))\n",
        "    return ui_matrix.tocsr(), user_enc, item_enc\n",
        "\n",
        "ui_matrix, user_enc, item_enc = build_user_item_matrix(events)"
      ],
      "metadata": {
        "id": "PcwLWfdEvWC9"
      },
      "execution_count": 44,
      "outputs": []
    },
    {
      "cell_type": "code",
      "source": [
        "# Popular items baseline\n",
        "def top_popular(events_df, k=10):\n",
        "    return events_df[\"itemid\"].value_counts().head(k).index.tolist()\n",
        "\n",
        "print(\"Top popular items:\", top_popular(events, 10))\n"
      ],
      "metadata": {
        "colab": {
          "base_uri": "https://localhost:8080/"
        },
        "id": "hP4XIomzvor5",
        "outputId": "ff2b1332-e1bb-4fc4-afb1-63b57660109b"
      },
      "execution_count": 45,
      "outputs": [
        {
          "output_type": "stream",
          "name": "stdout",
          "text": [
            "Top popular items: [187946, 5411, 370653, 461686, 298009, 96924, 219512, 384302, 335975, 441668]\n"
          ]
        }
      ]
    },
    {
      "cell_type": "code",
      "source": [
        "# Convert itemid in events to int for merging\n",
        "events['itemid'] = pd.to_numeric(events['itemid'], errors='coerce')\n",
        "events = events.dropna(subset=['itemid'])\n",
        "events['itemid'] = events['itemid'].astype(int)\n",
        "\n",
        "\n",
        "# Merge events with item properties\n",
        "merged_df = events.merge(item_props, on=\"itemid\", how=\"left\")\n",
        "\n",
        "# Convert 'child' column in category_tree to numeric for merging\n",
        "category_tree['child'] = pd.to_numeric(category_tree['child'], errors='coerce')\n",
        "category_tree = category_tree.dropna(subset=['child']) # Remove rows where conversion failed\n",
        "category_tree['child'] = category_tree['child'].astype(int)\n",
        "\n",
        "# Optionally merge with category tree if needed\n",
        "merged_df = merged_df.merge(category_tree, left_on=\"itemid\", right_on=\"child\", how=\"left\")\n",
        "\n",
        "# Convert timestamp from events (which becomes timestamp_x after the first merge)\n",
        "if 'timestamp_x' in merged_df.columns:\n",
        "    merged_df['timestamp'] = pd.to_datetime(merged_df['timestamp_x'], errors='coerce')\n",
        "else:\n",
        "    # Fallback to original timestamp if no merge occurred or column name is different\n",
        "    merged_df['timestamp'] = pd.to_datetime(merged_df['timestamp'], errors='coerce')\n",
        "\n",
        "\n",
        "# Keep only numeric columns for correlation\n",
        "numeric_df = merged_df.select_dtypes(include=['float64', 'int64'])\n",
        "\n",
        "# Drop columns with too many NaNs\n",
        "numeric_df = numeric_df.dropna(axis=1, thresh=len(numeric_df) * 0.7)\n",
        "\n",
        "# Compute correlation matrix\n",
        "corr_matrix = numeric_df.corr()\n",
        "\n",
        "# Plot correlation heatmap\n",
        "plt.figure(figsize=(12, 8))\n",
        "sns.heatmap(corr_matrix, annot=True, cmap=\"coolwarm\", fmt=\".2f\")\n",
        "plt.title(\"Correlation Analysis of Cleaned Dataset\", fontsize=16)\n",
        "plt.show()"
      ],
      "metadata": {
        "colab": {
          "base_uri": "https://localhost:8080/",
          "height": 701
        },
        "id": "V8k_C7LaXNOm",
        "outputId": "021a5ede-3a56-4c1d-86b5-e793e849a386"
      },
      "execution_count": 46,
      "outputs": [
        {
          "output_type": "display_data",
          "data": {
            "text/plain": [
              "<Figure size 1200x800 with 2 Axes>"
            ],
            "image/png": "[encoded data removed]"
          },
          "metadata": {}
        }
      ]
    },
    {
      "cell_type": "code",
      "source": [
        "# ALS recommendations (if implicit is installed)\n",
        "if implicit is not None:\n",
        "    als_model = implicit.als.AlternatingLeastSquares(factors=32, iterations=5)\n",
        "    als_model.fit(ui_matrix.T)\n",
        "    user0_recs = als_model.recommend(0, ui_matrix[0], N=5)\n",
        "    print(\"ALS recs for first user:\", user0_recs)\n",
        "else:\n",
        "    print(\"implicit not installed, skipping ALS.\")\n"
      ],
      "metadata": {
        "colab": {
          "base_uri": "https://localhost:8080/",
          "height": 178,
          "referenced_widgets": [
            "2380c88a1ea24f93b8fc0ab843f819fb",
            "22e896b75ed94cb78c536f5260607a1b",
            "85781297276e4ac0a0d8065c79bc090d",
            "be66dadedd6d490fa65c84e3bd7d4456",
            "a0078ec671f54af88f32b4d00920501c",
            "69f46bf15a0c4bbda45addbf7eab4f00",
            "4fbeed7c3cf0452c957a67bd846414fc",
            "c731df5795bc45348f3183ec718adcac",
            "4184a74f108c42d4a53d90e09f1c8b92",
            "081eae886d9e401d922c42e718a4ea2c",
            "219ea7a1341f4c71b56dd4d25d470c18"
          ]
        },
        "id": "6aAMEN39v_IV",
        "outputId": "8c072103-7da5-4b1e-fab5-985c6d2c27e8"
      },
      "execution_count": 47,
      "outputs": [
        {
          "output_type": "stream",
          "name": "stderr",
          "text": [
            "/usr/local/lib/python3.11/dist-packages/implicit/utils.py:164: ParameterWarning:\n",
            "\n",
            "Method expects CSR input, and was passed csc_matrix instead. Converting to CSR took 0.07959628105163574 seconds\n",
            "\n"
          ]
        },
        {
          "output_type": "display_data",
          "data": {
            "text/plain": [
              "  0%|          | 0/5 [00:00<?, ?it/s]"
            ],
            "application/vnd.jupyter.widget-view+json": {
              "version_major": 2,
              "version_minor": 0,
              "model_id": "2380c88a1ea24f93b8fc0ab843f819fb"
            }
          },
          "metadata": {}
        },
        {
          "output_type": "stream",
          "name": "stdout",
          "text": [
            "ALS recs for first user: (array([ 855088,  640973,  486908, 1274054,  208799], dtype=int32), array([1.1108127e-08, 1.0520868e-08, 9.3573780e-09, 9.3392636e-09,\n",
            "       8.6479712e-09], dtype=float32))\n"
          ]
        }
      ]
    },
    {
      "cell_type": "code",
      "source": [
        "# -------------------------------\n",
        "# Step 3: Evaluation Metrics\n",
        "# -------------------------------\n",
        "def recall_at_k(true_items, pred_items, k):\n",
        "    return len(set(pred_items[:k]) & set(true_items)) / max(1, len(set(true_items)))\n",
        "\n",
        "def hit_rate_at_k(true_items, pred_items, k):\n",
        "    return int(len(set(pred_items[:k]) & set(true_items)) > 0)\n",
        "\n",
        "def ndcg_at_k(true_items, pred_items, k):\n",
        "    def dcg(scores):\n",
        "        return sum((2**s - 1) / np.log2(i+2) for i, s in enumerate(scores))\n",
        "    rels = [1 if p in true_items else 0 for p in pred_items[:k]]\n",
        "    return dcg(rels) / max(dcg(sorted(rels, reverse=True)), 1e-9)"
      ],
      "metadata": {
        "id": "uiYhxD25wQ4D"
      },
      "execution_count": 48,
      "outputs": []
    },
    {
      "cell_type": "code",
      "source": [
        "from sklearn.metrics import accuracy_score\n",
        "import lightgbm as lgb\n",
        "from scipy import sparse\n",
        "from lightgbm import log_evaluation\n",
        "\n",
        "# Target property\n",
        "target_prop = item_props[\"property\"].value_counts().index[0]\n",
        "print(\"Target property for prediction:\", target_prop)\n",
        "\n",
        "# Build item->latest value for target_prop\n",
        "prop_df = item_props[item_props[\"property\"] == target_prop].sort_values(\"timestamp\")\n",
        "item_latest_prop = prop_df.groupby(\"itemid\")[\"value\"].last().to_dict()\n",
        "\n",
        "X_texts, y_labels, extra_feats = [], [], []\n",
        "for _, row in events[events[\"event\"] == \"addtocart\"].iterrows():\n",
        "    user_hist = events[(events[\"visitorid\"] == row[\"visitorid\"]) &\n",
        "                       (events[\"timestamp\"] < row[\"timestamp\"])]\n",
        "    views = user_hist[user_hist[\"event\"] == \"view\"]\n",
        "    adds = user_hist[user_hist[\"event\"] == \"addtocart\"]\n",
        "    if views.empty:\n",
        "        continue\n",
        "\n",
        "    tokens = [str(item_latest_prop.get(i, \"\")) for i in views[\"itemid\"].values]\n",
        "\n",
        "    # Behavioral features\n",
        "    num_views = len(views)\n",
        "    distinct_items = views[\"itemid\"].nunique()\n",
        "    num_adds = len(adds)\n",
        "    time_since_last_view = row[\"timestamp\"] - views[\"timestamp\"].max()\n",
        "    avg_gap_views = views[\"timestamp\"].diff().mean() if len(views) > 1 else 0\n",
        "\n",
        "    label = item_latest_prop.get(row[\"itemid\"])\n",
        "    if label is None:\n",
        "        continue\n",
        "\n",
        "    X_texts.append(\" \".join(tokens))\n",
        "    y_labels.append(label)\n",
        "    extra_feats.append([\n",
        "        num_views,\n",
        "        distinct_items,\n",
        "        num_adds,\n",
        "        time_since_last_view,\n",
        "        avg_gap_views if pd.notnull(avg_gap_views) else 0\n",
        "    ])\n",
        "\n",
        "# 🔹 FILTER OUT RARE CLASSES\n",
        "from collections import Counter\n",
        "counts = Counter(y_labels)\n",
        "top_classes = {cls for cls, cnt in counts.items() if cnt >= 30}  # keep frequent classes only\n",
        "filtered = [(txt, lbl, feats) for txt, lbl, feats in zip(X_texts, y_labels, extra_feats) if lbl in top_classes]\n",
        "\n",
        "# Sample for speed\n",
        "if len(X_texts) > 4000:\n",
        "    from sklearn.utils import resample\n",
        "    X_texts, y_labels, extra_feats = resample(\n",
        "        X_texts, y_labels, extra_feats,\n",
        "        n_samples=4000, random_state=42\n",
        "    )\n",
        "\n",
        "if X_texts:\n",
        "    # TF-IDF\n",
        "    vec = TfidfVectorizer(max_features=1500)\n",
        "    X_tfidf = vec.fit_transform(X_texts)\n",
        "    X_extra = np.array(extra_feats, dtype=np.float32)\n",
        "\n",
        "    # Encode labels\n",
        "    label_enc = LabelEncoder()\n",
        "    y_enc = label_enc.fit_transform(y_labels)\n",
        "\n",
        "    # Train/test split\n",
        "    X_train_tfidf, X_val_tfidf, X_train_extra, X_val_extra, y_train, y_val = train_test_split(\n",
        "        X_tfidf, X_extra, y_enc, test_size=0.2, random_state=42\n",
        "    )\n",
        "\n",
        "    # Logistic Regression (TF-IDF only, tuned)\n",
        "    clf_log = LogisticRegression( max_iter=200,        # allow more iterations\n",
        "    solver=\"saga\",\n",
        "    n_jobs=-1,\n",
        "    class_weight=\"balanced\",\n",
        "    C=2.0,\n",
        "    tol=1e-3             # slightly looser convergence tolerance\n",
        "    )\n",
        "    clf_log.fit(X_train_tfidf, y_train)\n",
        "    preds_log = clf_log.predict(X_val_tfidf)\n",
        "    acc_log = accuracy_score(y_val, preds_log)\n",
        "    print(f\"Logistic Regression Accuracy: {acc_log:.4f}\")\n",
        "\n",
        "    # LightGBM (TF-IDF + Behavior, tuned, sparse input)\n",
        "    X_train_combined = sparse.hstack([X_train_tfidf, sparse.csr_matrix(X_train_extra)])\n",
        "    X_val_combined = sparse.hstack([X_val_tfidf, sparse.csr_matrix(X_val_extra)])\n",
        "\n",
        "    train_data = lgb.Dataset(X_train_combined, label=y_train)\n",
        "    val_data = lgb.Dataset(X_val_combined, label=y_val)\n",
        "\n",
        "    params = {\n",
        "        'objective': 'multiclass',\n",
        "        'num_class': len(label_enc.classes_),\n",
        "        'learning_rate': 0.1,\n",
        "        'num_leaves': 63,\n",
        "        'max_depth': 10,\n",
        "        'verbosity': -1\n",
        "    }\n",
        "    clf_lgb = lgb.train(\n",
        "        params,\n",
        "        train_data,\n",
        "        num_boost_round=80,\n",
        "        valid_sets=[val_data],\n",
        "        valid_names=['val'],\n",
        "        callbacks=[log_evaluation(period=0)]  # period=0 disables eval printing\n",
        "    )\n",
        "\n",
        "    preds_lgb = np.argmax(clf_lgb.predict(X_val_combined), axis=1)\n",
        "    acc_lgb = accuracy_score(y_val, preds_lgb)\n",
        "    print(f\"LightGBM Accuracy: {acc_lgb:.4f}\")\n",
        "\n",
        "else:\n",
        "    print(\"No training samples found for Task 1 in the sample subset.\")\n"
      ],
      "metadata": {
        "colab": {
          "base_uri": "https://localhost:8080/"
        },
        "id": "UI7A0g8twi69",
        "outputId": "04726bd3-279b-443f-c53e-5ce130428263"
      },
      "execution_count": 49,
      "outputs": [
        {
          "output_type": "stream",
          "name": "stdout",
          "text": [
            "Target property for prediction: 790\n",
            "Logistic Regression Accuracy: 0.7612\n",
            "LightGBM Accuracy: 0.0013\n"
          ]
        }
      ]
    },
    {
      "cell_type": "code",
      "source": [
        "# -------------------------------\n",
        "# Task 1 - Deep Learning Models (ANN, CNN, RNN)\n",
        "# -------------------------------\n",
        "import tensorflow as tf\n",
        "from tensorflow.keras.preprocessing.text import Tokenizer\n",
        "from tensorflow.keras.preprocessing.sequence import pad_sequences\n",
        "from sklearn.model_selection import train_test_split\n",
        "from sklearn.preprocessing import LabelEncoder\n",
        "import numpy as np\n",
        "from collections import Counter\n",
        "\n",
        "# --- Step 1: Prepare data ---\n",
        "target_prop = item_props[\"property\"].value_counts().index[0]\n",
        "print(\"Target property for prediction:\", target_prop)\n",
        "\n",
        "# Build item->latest value for target_prop\n",
        "prop_df = item_props[item_props[\"property\"] == target_prop].sort_values(\"timestamp\")\n",
        "item_latest_prop = prop_df.groupby(\"itemid\")[\"value\"].last().to_dict()\n",
        "\n",
        "X_texts, y_labels = [], []\n",
        "for _, row in events[events[\"event\"] == \"addtocart\"].iterrows():\n",
        "    user_hist = events[(events[\"visitorid\"] == row[\"visitorid\"]) &\n",
        "                       (events[\"timestamp\"] < row[\"timestamp\"]) &\n",
        "                       (events[\"event\"] == \"view\")]\n",
        "    tokens = [str(item_latest_prop.get(i, \"\")) for i in user_hist[\"itemid\"].values]\n",
        "    label = item_latest_prop.get(row[\"itemid\"])\n",
        "    if label and tokens:\n",
        "        X_texts.append(\" \".join(tokens))\n",
        "        y_labels.append(label)\n",
        "\n",
        "# Filter to frequent classes only (min 30 occurrences)\n",
        "counts = Counter(y_labels)\n",
        "top_classes = {cls for cls, cnt in counts.items() if cnt >= 30}\n",
        "filtered = [(txt, lbl) for txt, lbl in zip(X_texts, y_labels) if lbl in top_classes]\n",
        "\n",
        "# Add a check for empty filtered list\n",
        "if not filtered:\n",
        "    print(\"No training samples found after filtering.\")\n",
        "else:\n",
        "    X_texts, y_labels = zip(*filtered)\n",
        "    X_texts, y_labels = list(X_texts), list(y_labels)\n",
        "\n",
        "    # Encode labels\n",
        "    label_enc = LabelEncoder()\n",
        "    y_enc = label_enc.fit_transform(y_labels)\n",
        "    num_classes = len(label_enc.classes_)\n",
        "\n",
        "    # Tokenize & pad sequences\n",
        "    max_words = 5000\n",
        "    max_len = 50\n",
        "    tokenizer = Tokenizer(num_words=max_words, oov_token=\"<OOV>\")\n",
        "    tokenizer.fit_on_texts(X_texts)\n",
        "    X_seq = tokenizer.texts_to_sequences(X_texts)\n",
        "    X_pad = pad_sequences(X_seq, maxlen=max_len, padding='post')\n",
        "\n",
        "    # Train/test split\n",
        "    X_train, X_val, y_train, y_val = train_test_split(X_pad, y_enc, test_size=0.2, random_state=42)\n",
        "\n",
        "    # Convert to categorical for softmax\n",
        "    y_train_cat = tf.keras.utils.to_categorical(y_train, num_classes=num_classes)\n",
        "    y_val_cat = tf.keras.utils.to_categorical(y_val, num_classes=num_classes)\n",
        "\n",
        "    # --- Step 2: Define models ---\n",
        "\n",
        "    # ANN\n",
        "    def build_ann():\n",
        "        model = tf.keras.Sequential([\n",
        "            tf.keras.layers.Embedding(max_words, 64, input_length=max_len),\n",
        "            tf.keras.layers.GlobalAveragePooling1D(),\n",
        "            tf.keras.layers.Dense(64, activation='relu'),\n",
        "            tf.keras.layers.Dense(num_classes, activation='softmax')\n",
        "        ])\n",
        "        model.compile(loss='categorical_crossentropy', optimizer='adam', metrics=['accuracy'])\n",
        "        return model\n",
        "\n",
        "    # CNN\n",
        "    def build_cnn():\n",
        "        model = tf.keras.Sequential([\n",
        "            tf.keras.layers.Embedding(max_words, 64, input_length=max_len),\n",
        "            tf.keras.layers.Conv1D(64, 5, activation='relu'),\n",
        "            tf.keras.layers.GlobalMaxPooling1D(),\n",
        "            tf.keras.layers.Dense(64, activation='relu'),\n",
        "            tf.keras.layers.Dense(num_classes, activation='softmax')\n",
        "        ])\n",
        "        model.compile(loss='categorical_crossentropy', optimizer='adam', metrics=['accuracy'])\n",
        "        return model\n",
        "\n",
        "    # RNN (LSTM)\n",
        "    def build_rnn():\n",
        "        model = tf.keras.Sequential([\n",
        "            tf.keras.layers.Embedding(max_words, 64, input_length=max_len),\n",
        "            tf.keras.layers.LSTM(64),\n",
        "            tf.keras.layers.Dense(64, activation='relu'),\n",
        "            tf.keras.layers.Dense(num_classes, activation='softmax')\n",
        "        ])\n",
        "        model.compile(loss='categorical_crossentropy', optimizer='adam', metrics=['accuracy'])\n",
        "        return model\n",
        "\n",
        "    # --- Step 3: Train models ---\n",
        "    models = {\n",
        "        \"ANN\": build_ann(),\n",
        "        \"CNN\": build_cnn(),\n",
        "        \"RNN\": build_rnn()\n",
        "    }\n",
        "\n",
        "    history = {}\n",
        "    for name, model in models.items():\n",
        "        print(f\"\\nTraining {name} model...\")\n",
        "        hist = model.fit(\n",
        "            X_train, y_train_cat,\n",
        "            validation_data=(X_val, y_val_cat),\n",
        "            epochs=3, batch_size=64, verbose=1\n",
        "        )\n",
        "        history[name] = hist\n",
        "\n",
        "    # --- Step 4: Evaluate ---\n",
        "    for name, model in models.items():\n",
        "        loss, acc = model.evaluate(X_val, y_val_cat, verbose=0)\n",
        "        print(f\"{name} Validation Accuracy: {acc:.4f}\")"
      ],
      "metadata": {
        "colab": {
          "base_uri": "https://localhost:8080/"
        },
        "id": "WhGmfeLaFN3E",
        "outputId": "1dd27e05-37f3-4631-b6e5-524bdef4aea7"
      },
      "execution_count": 50,
      "outputs": [
        {
          "output_type": "stream",
          "name": "stdout",
          "text": [
            "Target property for prediction: 790\n"
          ]
        },
        {
          "output_type": "stream",
          "name": "stderr",
          "text": [
            "/usr/local/lib/python3.11/dist-packages/keras/src/layers/core/embedding.py:97: UserWarning:\n",
            "\n",
            "Argument `input_length` is deprecated. Just remove it.\n",
            "\n"
          ]
        },
        {
          "output_type": "stream",
          "name": "stdout",
          "text": [
            "\n",
            "Training ANN model...\n",
            "Epoch 1/3\n",
            "\u001b[1m2/2\u001b[0m \u001b[32m━━━━━━━━━━━━━━━━━━━━\u001b[0m\u001b[37m\u001b[0m \u001b[1m2s\u001b[0m 283ms/step - accuracy: 0.2761 - loss: 1.0977 - val_accuracy: 0.2963 - val_loss: 1.1041\n",
            "Epoch 2/3\n",
            "\u001b[1m2/2\u001b[0m \u001b[32m━━━━━━━━━━━━━━━━━━━━\u001b[0m\u001b[37m\u001b[0m \u001b[1m0s\u001b[0m 64ms/step - accuracy: 0.5125 - loss: 1.0776 - val_accuracy: 0.2963 - val_loss: 1.1141\n",
            "Epoch 3/3\n",
            "\u001b[1m2/2\u001b[0m \u001b[32m━━━━━━━━━━━━━━━━━━━━\u001b[0m\u001b[37m\u001b[0m \u001b[1m0s\u001b[0m 65ms/step - accuracy: 0.4916 - loss: 1.0640 - val_accuracy: 0.2963 - val_loss: 1.1259\n",
            "\n",
            "Training CNN model...\n",
            "Epoch 1/3\n",
            "\u001b[1m2/2\u001b[0m \u001b[32m━━━━━━━━━━━━━━━━━━━━\u001b[0m\u001b[37m\u001b[0m \u001b[1m2s\u001b[0m 314ms/step - accuracy: 0.4599 - loss: 1.0903 - val_accuracy: 0.2963 - val_loss: 1.0905\n",
            "Epoch 2/3\n",
            "\u001b[1m2/2\u001b[0m \u001b[32m━━━━━━━━━━━━━━━━━━━━\u001b[0m\u001b[37m\u001b[0m \u001b[1m0s\u001b[0m 73ms/step - accuracy: 0.4916 - loss: 1.0671 - val_accuracy: 0.2963 - val_loss: 1.0837\n",
            "Epoch 3/3\n",
            "\u001b[1m2/2\u001b[0m \u001b[32m━━━━━━━━━━━━━━━━━━━━\u001b[0m\u001b[37m\u001b[0m \u001b[1m0s\u001b[0m 71ms/step - accuracy: 0.4968 - loss: 1.0461 - val_accuracy: 0.2963 - val_loss: 1.0783\n",
            "\n",
            "Training RNN model...\n",
            "Epoch 1/3\n",
            "\u001b[1m2/2\u001b[0m \u001b[32m━━━━━━━━━━━━━━━━━━━━\u001b[0m\u001b[37m\u001b[0m \u001b[1m4s\u001b[0m 659ms/step - accuracy: 0.3425 - loss: 1.0949 - val_accuracy: 0.2963 - val_loss: 1.1052\n",
            "Epoch 2/3\n",
            "\u001b[1m2/2\u001b[0m \u001b[32m━━━━━━━━━━━━━━━━━━━━\u001b[0m\u001b[37m\u001b[0m \u001b[1m0s\u001b[0m 173ms/step - accuracy: 0.4916 - loss: 1.0767 - val_accuracy: 0.2963 - val_loss: 1.1173\n",
            "Epoch 3/3\n",
            "\u001b[1m2/2\u001b[0m \u001b[32m━━━━━━━━━━━━━━━━━━━━\u001b[0m\u001b[37m\u001b[0m \u001b[1m0s\u001b[0m 160ms/step - accuracy: 0.5229 - loss: 1.0550 - val_accuracy: 0.2963 - val_loss: 1.1378\n",
            "ANN Validation Accuracy: 0.2963\n",
            "CNN Validation Accuracy: 0.2963\n",
            "RNN Validation Accuracy: 0.2963\n"
          ]
        }
      ]
    },
    {
      "cell_type": "code",
      "source": [
        "# -------------------------------\n",
        "# Step 5: Task 2 - Abnormal User Detection\n",
        "# -------------------------------\n",
        "def build_user_features(events_df):\n",
        "    feats = []\n",
        "    for uid, g in events_df.groupby(\"visitorid\"):\n",
        "        total = len(g)\n",
        "        views = (g[\"event\"] == \"view\").sum()\n",
        "        adds = (g[\"event\"] == \"addtocart\").sum()\n",
        "        buys = (g[\"event\"] == \"transaction\").sum()\n",
        "        feats.append({\n",
        "            \"visitorid\": uid,\n",
        "            \"total_events\": total,\n",
        "            \"views\": views,\n",
        "            \"adds\": adds,\n",
        "            \"buys\": buys,\n",
        "            \"add_rate\": adds/total if total > 0 else 0,\n",
        "            \"conv_rate\": buys/total if total > 0 else 0\n",
        "        })\n",
        "    return pd.DataFrame(feats).set_index(\"visitorid\")\n",
        "\n",
        "user_feats = build_user_features(events)\n",
        "iso = IsolationForest(contamination=0.02, random_state=42)\n",
        "iso_preds = iso.fit_predict(user_feats)\n",
        "user_feats[\"outlier\"] = (iso_preds == -1).astype(int)\n",
        "print(\"Detected outliers in sample:\", user_feats[\"outlier\"].sum())\n",
        "\n"
      ],
      "metadata": {
        "colab": {
          "base_uri": "https://localhost:8080/"
        },
        "id": "iXy01RSu1Mmc",
        "outputId": "4cbcc471-84c1-4f38-baec-da3b02da86d5"
      },
      "execution_count": 51,
      "outputs": [
        {
          "output_type": "stream",
          "name": "stdout",
          "text": [
            "Detected outliers in sample: 24946\n"
          ]
        }
      ]
    },
    {
      "cell_type": "code",
      "source": [
        "# -------------------------------\n",
        "# Step 5: Task 2 - Abnormal User Detection with CNN Autoencoder\n",
        "# -------------------------------\n",
        "from sklearn.preprocessing import StandardScaler\n",
        "import tensorflow as tf\n",
        "import numpy as np\n",
        "\n",
        "# Step 1: Build user-level feature set\n",
        "def build_user_features(events_df):\n",
        "    feats = []\n",
        "    for uid, g in events_df.groupby(\"visitorid\"):\n",
        "        total = len(g)\n",
        "        views = (g[\"event\"] == \"view\").sum()\n",
        "        adds = (g[\"event\"] == \"addtocart\").sum()\n",
        "        buys = (g[\"event\"] == \"transaction\").sum()\n",
        "        feats.append({\n",
        "            \"visitorid\": uid,\n",
        "            \"total_events\": total,\n",
        "            \"views\": views,\n",
        "            \"adds\": adds,\n",
        "            \"buys\": buys,\n",
        "            \"add_rate\": adds/total if total > 0 else 0,\n",
        "            \"conv_rate\": buys/total if total > 0 else 0\n",
        "        })\n",
        "    return pd.DataFrame(feats).set_index(\"visitorid\")\n",
        "\n",
        "user_feats = build_user_features(events)\n",
        "\n",
        "# Step 2: Scale features\n",
        "scaler = StandardScaler()\n",
        "X_scaled = scaler.fit_transform(user_feats)\n",
        "\n",
        "# Step 3: Reshape for CNN (samples, timesteps, features_per_step)\n",
        "# Here timesteps = number of features, features_per_step = 1\n",
        "X_scaled_cnn = X_scaled.reshape((X_scaled.shape[0], X_scaled.shape[1], 1))\n",
        "\n",
        "# Step 4: Define CNN Autoencoder\n",
        "input_dim = X_scaled_cnn.shape[1]  # timesteps\n",
        "\n",
        "input_layer = tf.keras.layers.Input(shape=(input_dim, 1))\n",
        "\n",
        "# Encoder\n",
        "x = tf.keras.layers.Conv1D(16, kernel_size=2, activation=\"relu\", padding=\"same\")(input_layer)\n",
        "x = tf.keras.layers.MaxPooling1D(pool_size=2, padding=\"same\")(x)\n",
        "encoded = tf.keras.layers.Conv1D(8, kernel_size=2, activation=\"relu\", padding=\"same\")(x)\n",
        "\n",
        "# Decoder\n",
        "x = tf.keras.layers.UpSampling1D(size=2)(encoded)\n",
        "decoded = tf.keras.layers.Conv1D(1, kernel_size=2, activation=None, padding=\"same\")(x)\n",
        "\n",
        "cnn_autoencoder = tf.keras.models.Model(inputs=input_layer, outputs=decoded)\n",
        "cnn_autoencoder.compile(optimizer='adam', loss='mse')\n",
        "\n",
        "# Step 5: Train CNN autoencoder\n",
        "cnn_autoencoder.fit(\n",
        "    X_scaled_cnn, X_scaled_cnn,\n",
        "    epochs=20,\n",
        "    batch_size=32,\n",
        "    shuffle=True,\n",
        "    verbose=0\n",
        ")\n",
        "\n",
        "# Step 6: Reconstruction errors\n",
        "reconstructions = cnn_autoencoder.predict(X_scaled_cnn)\n",
        "mse = np.mean(np.power(X_scaled_cnn - reconstructions, 2), axis=(1, 2))\n",
        "\n",
        "# Step 7: Detect anomalies\n",
        "threshold = np.percentile(mse, 98)  # top 2% as anomalies\n",
        "user_feats[\"reconstruction_error\"] = mse\n",
        "user_feats[\"outlier\"] = (mse > threshold).astype(int)\n",
        "\n",
        "print(\"Detected outliers (CNN-based):\", user_feats[\"outlier\"].sum())\n"
      ],
      "metadata": {
        "colab": {
          "base_uri": "https://localhost:8080/"
        },
        "id": "C1cVQWbDt4Fb",
        "outputId": "dad33691-757c-4223-8bd8-004163bd2347"
      },
      "execution_count": null,
      "outputs": [
        {
          "output_type": "stream",
          "name": "stdout",
          "text": [
            "\u001b[1m16556/16556\u001b[0m \u001b[32m━━━━━━━━━━━━━━━━━━━━\u001b[0m\u001b[37m\u001b[0m \u001b[1m25s\u001b[0m 1ms/step\n",
            "Detected outliers (CNN-based): 8824\n"
          ]
        }
      ]
    },
    {
      "cell_type": "code",
      "source": [
        "# -------------------------------\n",
        "# Step 6: Summary\n",
        "# -------------------------------\n",
        "print(\"\\nPipeline complete (sample run).\")\n",
        "print(\"Property values cleaned: 'n...' converted to integers.\")"
      ],
      "metadata": {
        "colab": {
          "base_uri": "https://localhost:8080/"
        },
        "id": "dLG4KKEExTaZ",
        "outputId": "6ff1f6be-49fa-4999-f0cb-44ed1a1e7279"
      },
      "execution_count": null,
      "outputs": [
        {
          "output_type": "stream",
          "name": "stdout",
          "text": [
            "\n",
            "Pipeline complete (sample run).\n",
            "Property values cleaned: 'n...' converted to integers.\n"
          ]
        }
      ]
    },
    {
      "cell_type": "code",
      "source": [
        "# -------------------------------\n",
        "# Task 1 - Deep Learning Model (Tuned CNN Only)\n",
        "# -------------------------------\n",
        "import tensorflow as tf\n",
        "from tensorflow.keras.preprocessing.text import Tokenizer\n",
        "from tensorflow.keras.preprocessing.sequence import pad_sequences\n",
        "from tensorflow.keras.callbacks import EarlyStopping\n",
        "from sklearn.model_selection import train_test_split\n",
        "from sklearn.preprocessing import LabelEncoder\n",
        "import numpy as np\n",
        "from collections import Counter\n",
        "\n",
        "# --- Step 1: Prepare data ---\n",
        "target_prop = item_props[\"property\"].value_counts().index[0]\n",
        "print(\"Target property for prediction:\", target_prop)\n",
        "\n",
        "# Build item->latest value for target_prop\n",
        "prop_df = item_props[item_props[\"property\"] == target_prop].sort_values(\"timestamp\")\n",
        "item_latest_prop = prop_df.groupby(\"itemid\")[\"value\"].last().to_dict()\n",
        "\n",
        "X_texts, y_labels = [], []\n",
        "for _, row in events[events[\"event\"] == \"addtocart\"].iterrows():\n",
        "    user_hist = events[(events[\"visitorid\"] == row[\"visitorid\"]) &\n",
        "                       (events[\"timestamp\"] < row[\"timestamp\"]) &\n",
        "                       (events[\"event\"] == \"view\")]\n",
        "    tokens = [str(item_latest_prop.get(i, \"\")) for i in user_hist[\"itemid\"].values]\n",
        "    label = item_latest_prop.get(row[\"itemid\"])\n",
        "    if label and tokens:\n",
        "        X_texts.append(\" \".join(tokens))\n",
        "        y_labels.append(label)\n",
        "\n",
        "# Filter to frequent classes only (adaptive min frequency)\n",
        "counts = Counter(y_labels)\n",
        "min_freq = 10  # lower to keep more classes for small samples\n",
        "top_classes = {cls for cls, cnt in counts.items() if cnt >= min_freq}\n",
        "filtered = [(txt, lbl) for txt, lbl in zip(X_texts, y_labels) if lbl in top_classes]\n",
        "\n",
        "if not filtered:\n",
        "    print(\"No training samples found after filtering.\")\n",
        "else:\n",
        "    X_texts, y_labels = zip(*filtered)\n",
        "    X_texts, y_labels = list(X_texts), list(y_labels)\n",
        "\n",
        "    # Encode labels\n",
        "    label_enc = LabelEncoder()\n",
        "    y_enc = label_enc.fit_transform(y_labels)\n",
        "    num_classes = len(label_enc.classes_)\n",
        "\n",
        "    # Tokenize & pad sequences\n",
        "    max_words = 5000\n",
        "    max_len = 50\n",
        "    tokenizer = Tokenizer(num_words=max_words, oov_token=\"<OOV>\")\n",
        "    tokenizer.fit_on_texts(X_texts)\n",
        "    X_seq = tokenizer.texts_to_sequences(X_texts)\n",
        "    X_pad = pad_sequences(X_seq, maxlen=max_len, padding='post')\n",
        "\n",
        "    # Train/test split\n",
        "    X_train, X_val, y_train, y_val = train_test_split(X_pad, y_enc, test_size=0.2, random_state=42)\n",
        "\n",
        "    # Convert to categorical\n",
        "    y_train_cat = tf.keras.utils.to_categorical(y_train, num_classes=num_classes)\n",
        "    y_val_cat = tf.keras.utils.to_categorical(y_val, num_classes=num_classes)\n",
        "\n",
        "    # --- Step 2: Define Tuned CNN ---\n",
        "    def build_cnn():\n",
        "        model = tf.keras.Sequential([\n",
        "            tf.keras.layers.Embedding(max_words, 128, input_length=max_len),\n",
        "            tf.keras.layers.Conv1D(256, 5, activation='relu'),\n",
        "            tf.keras.layers.BatchNormalization(),\n",
        "            tf.keras.layers.MaxPooling1D(2),\n",
        "            tf.keras.layers.Conv1D(128, 5, activation='relu'),\n",
        "            tf.keras.layers.GlobalMaxPooling1D(),\n",
        "            tf.keras.layers.Dropout(0.4),\n",
        "            tf.keras.layers.Dense(64, activation='relu'),\n",
        "            tf.keras.layers.Dense(num_classes, activation='softmax')\n",
        "        ])\n",
        "        model.compile(\n",
        "            loss='categorical_crossentropy',\n",
        "            optimizer=tf.keras.optimizers.Adam(learning_rate=0.0005),\n",
        "            metrics=['accuracy']\n",
        "        )\n",
        "        return model\n",
        "\n",
        "    # --- Step 3: Train CNN ---\n",
        "    cnn_model = build_cnn()\n",
        "    early_stop = EarlyStopping(monitor='val_loss', patience=2, restore_best_weights=True)\n",
        "\n",
        "    history = cnn_model.fit(\n",
        "        X_train, y_train_cat,\n",
        "        validation_data=(X_val, y_val_cat),\n",
        "        epochs=8,\n",
        "        batch_size=64,\n",
        "        callbacks=[early_stop],\n",
        "        verbose=1\n",
        "    )\n",
        "\n",
        "    # --- Step 4: Evaluate ---\n",
        "    loss, acc = cnn_model.evaluate(X_val, y_val_cat, verbose=0)\n",
        "    print(f\"Tuned CNN Validation Accuracy: {acc:.4f}\")"
      ],
      "metadata": {
        "colab": {
          "base_uri": "https://localhost:8080/"
        },
        "id": "XGywy3Ki1hAa",
        "outputId": "91248bc9-d730-4892-f67d-81191b024919"
      },
      "execution_count": 52,
      "outputs": [
        {
          "output_type": "stream",
          "name": "stdout",
          "text": [
            "Target property for prediction: 790\n",
            "Epoch 1/8\n"
          ]
        },
        {
          "output_type": "stream",
          "name": "stderr",
          "text": [
            "/usr/local/lib/python3.11/dist-packages/keras/src/layers/core/embedding.py:97: UserWarning:\n",
            "\n",
            "Argument `input_length` is deprecated. Just remove it.\n",
            "\n"
          ]
        },
        {
          "output_type": "stream",
          "name": "stdout",
          "text": [
            "\u001b[1m22/22\u001b[0m \u001b[32m━━━━━━━━━━━━━━━━━━━━\u001b[0m\u001b[37m\u001b[0m \u001b[1m6s\u001b[0m 147ms/step - accuracy: 0.0081 - loss: 4.7993 - val_accuracy: 0.0285 - val_loss: 4.7914\n",
            "Epoch 2/8\n",
            "\u001b[1m22/22\u001b[0m \u001b[32m━━━━━━━━━━━━━━━━━━━━\u001b[0m\u001b[37m\u001b[0m \u001b[1m3s\u001b[0m 139ms/step - accuracy: 0.0773 - loss: 4.6220 - val_accuracy: 0.0427 - val_loss: 4.7794\n",
            "Epoch 3/8\n",
            "\u001b[1m22/22\u001b[0m \u001b[32m━━━━━━━━━━━━━━━━━━━━\u001b[0m\u001b[37m\u001b[0m \u001b[1m3s\u001b[0m 141ms/step - accuracy: 0.1555 - loss: 4.1940 - val_accuracy: 0.0912 - val_loss: 4.7347\n",
            "Epoch 4/8\n",
            "\u001b[1m22/22\u001b[0m \u001b[32m━━━━━━━━━━━━━━━━━━━━\u001b[0m\u001b[37m\u001b[0m \u001b[1m5s\u001b[0m 133ms/step - accuracy: 0.2731 - loss: 3.4166 - val_accuracy: 0.2564 - val_loss: 4.6455\n",
            "Epoch 5/8\n",
            "\u001b[1m22/22\u001b[0m \u001b[32m━━━━━━━━━━━━━━━━━━━━\u001b[0m\u001b[37m\u001b[0m \u001b[1m3s\u001b[0m 138ms/step - accuracy: 0.5163 - loss: 2.3226 - val_accuracy: 0.5185 - val_loss: 4.4948\n",
            "Epoch 6/8\n",
            "\u001b[1m22/22\u001b[0m \u001b[32m━━━━━━━━━━━━━━━━━━━━\u001b[0m\u001b[37m\u001b[0m \u001b[1m3s\u001b[0m 130ms/step - accuracy: 0.7628 - loss: 1.3254 - val_accuracy: 0.7721 - val_loss: 4.2752\n",
            "Epoch 7/8\n",
            "\u001b[1m22/22\u001b[0m \u001b[32m━━━━━━━━━━━━━━━━━━━━\u001b[0m\u001b[37m\u001b[0m \u001b[1m4s\u001b[0m 195ms/step - accuracy: 0.8756 - loss: 0.7230 - val_accuracy: 0.9117 - val_loss: 4.0621\n",
            "Epoch 8/8\n",
            "\u001b[1m22/22\u001b[0m \u001b[32m━━━━━━━━━━━━━━━━━━━━\u001b[0m\u001b[37m\u001b[0m \u001b[1m3s\u001b[0m 131ms/step - accuracy: 0.9289 - loss: 0.4549 - val_accuracy: 0.9031 - val_loss: 3.8769\n",
            "Tuned CNN Validation Accuracy: 0.9031\n"
          ]
        }
      ]
    }
  ]
}